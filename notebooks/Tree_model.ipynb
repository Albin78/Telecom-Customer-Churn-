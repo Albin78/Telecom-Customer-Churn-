{
  "cells": [
    {
      "cell_type": "code",
      "execution_count": null,
      "metadata": {
        "id": "45mVAql70tsB"
      },
      "outputs": [],
      "source": []
    },
    {
      "cell_type": "markdown",
      "metadata": {
        "id": "0Hs3zzMF0t9v"
      },
      "source": [
        "## Tree Models"
      ]
    },
    {
      "cell_type": "code",
      "execution_count": 1,
      "metadata": {
        "id": "n_x72ESm0vMP"
      },
      "outputs": [],
      "source": [
        "from sklearn.ensemble import RandomForestClassifier\n",
        "from sklearn.preprocessing import OneHotEncoder\n",
        "from sklearn.pipeline import Pipeline\n",
        "from sklearn.compose import ColumnTransformer\n",
        "from sklearn.metrics import (\n",
        "    classification_report, roc_auc_score,\n",
        "    average_precision_score, confusion_matrix\n",
        ")\n",
        "\n",
        "from sklearn.model_selection import GridSearchCV, StratifiedKFold, RandomizedSearchCV\n",
        "from sklearn.model_selection import learning_curve\n",
        "from sklearn.model_selection import train_test_split\n",
        "import pandas as pd\n",
        "import numpy as np\n",
        "import matplotlib.pyplot as plt\n",
        "import seaborn as sns"
      ]
    },
    {
      "cell_type": "code",
      "execution_count": 2,
      "metadata": {
        "colab": {
          "base_uri": "https://localhost:8080/",
          "height": 365
        },
        "id": "YG2nZShM3d4a",
        "outputId": "bd877a61-4571-4939-9721-8471b549a076"
      },
      "outputs": [
        {
          "data": {
            "text/html": [
              "<div>\n",
              "<style scoped>\n",
              "    .dataframe tbody tr th:only-of-type {\n",
              "        vertical-align: middle;\n",
              "    }\n",
              "\n",
              "    .dataframe tbody tr th {\n",
              "        vertical-align: top;\n",
              "    }\n",
              "\n",
              "    .dataframe thead th {\n",
              "        text-align: right;\n",
              "    }\n",
              "</style>\n",
              "<table border=\"1\" class=\"dataframe\">\n",
              "  <thead>\n",
              "    <tr style=\"text-align: right;\">\n",
              "      <th></th>\n",
              "      <th>SeniorCitizen</th>\n",
              "      <th>Partner</th>\n",
              "      <th>Dependents</th>\n",
              "      <th>tenure</th>\n",
              "      <th>InternetService</th>\n",
              "      <th>Contract</th>\n",
              "      <th>PaperlessBilling</th>\n",
              "      <th>PaymentMethod</th>\n",
              "      <th>MonthlyCharges</th>\n",
              "      <th>TotalCharges</th>\n",
              "      <th>Fibre_stream_pref</th>\n",
              "      <th>DSL_security_pref</th>\n",
              "      <th>has_phone</th>\n",
              "      <th>has_multipleline</th>\n",
              "      <th>tenure_bucket</th>\n",
              "      <th>avg_monthly_charge</th>\n",
              "      <th>total_addons</th>\n",
              "      <th>contract_payment</th>\n",
              "      <th>security_bins</th>\n",
              "      <th>streaming_bins</th>\n",
              "      <th>new_customers</th>\n",
              "      <th>churn</th>\n",
              "    </tr>\n",
              "  </thead>\n",
              "  <tbody>\n",
              "    <tr>\n",
              "      <th>0</th>\n",
              "      <td>0</td>\n",
              "      <td>0</td>\n",
              "      <td>0</td>\n",
              "      <td>18.0</td>\n",
              "      <td>No</td>\n",
              "      <td>One year</td>\n",
              "      <td>0</td>\n",
              "      <td>Mailed check</td>\n",
              "      <td>20.10</td>\n",
              "      <td>401.85</td>\n",
              "      <td>0</td>\n",
              "      <td>0</td>\n",
              "      <td>1</td>\n",
              "      <td>0</td>\n",
              "      <td>12+</td>\n",
              "      <td>22.325000</td>\n",
              "      <td>0</td>\n",
              "      <td>One year_Mailed check</td>\n",
              "      <td>0</td>\n",
              "      <td>0</td>\n",
              "      <td>0</td>\n",
              "      <td>0</td>\n",
              "    </tr>\n",
              "    <tr>\n",
              "      <th>1</th>\n",
              "      <td>0</td>\n",
              "      <td>0</td>\n",
              "      <td>0</td>\n",
              "      <td>7.0</td>\n",
              "      <td>Fiber optic</td>\n",
              "      <td>Month-to-month</td>\n",
              "      <td>0</td>\n",
              "      <td>Electronic check</td>\n",
              "      <td>96.20</td>\n",
              "      <td>639.70</td>\n",
              "      <td>1</td>\n",
              "      <td>0</td>\n",
              "      <td>1</td>\n",
              "      <td>1</td>\n",
              "      <td>4-12</td>\n",
              "      <td>91.385714</td>\n",
              "      <td>2</td>\n",
              "      <td>Month-to-month_Electronic check</td>\n",
              "      <td>0</td>\n",
              "      <td>2</td>\n",
              "      <td>0</td>\n",
              "      <td>0</td>\n",
              "    </tr>\n",
              "    <tr>\n",
              "      <th>2</th>\n",
              "      <td>0</td>\n",
              "      <td>0</td>\n",
              "      <td>0</td>\n",
              "      <td>52.0</td>\n",
              "      <td>Fiber optic</td>\n",
              "      <td>Two year</td>\n",
              "      <td>1</td>\n",
              "      <td>Electronic check</td>\n",
              "      <td>109.30</td>\n",
              "      <td>5731.40</td>\n",
              "      <td>1</td>\n",
              "      <td>0</td>\n",
              "      <td>1</td>\n",
              "      <td>1</td>\n",
              "      <td>12+</td>\n",
              "      <td>110.219231</td>\n",
              "      <td>5</td>\n",
              "      <td>Two year_Electronic check</td>\n",
              "      <td>3+</td>\n",
              "      <td>2</td>\n",
              "      <td>0</td>\n",
              "      <td>0</td>\n",
              "    </tr>\n",
              "    <tr>\n",
              "      <th>3</th>\n",
              "      <td>0</td>\n",
              "      <td>1</td>\n",
              "      <td>1</td>\n",
              "      <td>46.0</td>\n",
              "      <td>No</td>\n",
              "      <td>Two year</td>\n",
              "      <td>1</td>\n",
              "      <td>Mailed check</td>\n",
              "      <td>19.95</td>\n",
              "      <td>927.10</td>\n",
              "      <td>0</td>\n",
              "      <td>0</td>\n",
              "      <td>1</td>\n",
              "      <td>0</td>\n",
              "      <td>12+</td>\n",
              "      <td>20.154348</td>\n",
              "      <td>0</td>\n",
              "      <td>Two year_Mailed check</td>\n",
              "      <td>0</td>\n",
              "      <td>0</td>\n",
              "      <td>0</td>\n",
              "      <td>0</td>\n",
              "    </tr>\n",
              "    <tr>\n",
              "      <th>4</th>\n",
              "      <td>1</td>\n",
              "      <td>1</td>\n",
              "      <td>0</td>\n",
              "      <td>40.0</td>\n",
              "      <td>Fiber optic</td>\n",
              "      <td>Month-to-month</td>\n",
              "      <td>0</td>\n",
              "      <td>Electronic check</td>\n",
              "      <td>101.85</td>\n",
              "      <td>4086.30</td>\n",
              "      <td>1</td>\n",
              "      <td>0</td>\n",
              "      <td>1</td>\n",
              "      <td>1</td>\n",
              "      <td>12+</td>\n",
              "      <td>102.157500</td>\n",
              "      <td>3</td>\n",
              "      <td>Month-to-month_Electronic check</td>\n",
              "      <td>1</td>\n",
              "      <td>2</td>\n",
              "      <td>0</td>\n",
              "      <td>1</td>\n",
              "    </tr>\n",
              "  </tbody>\n",
              "</table>\n",
              "</div>"
            ],
            "text/plain": [
              "   SeniorCitizen  Partner  Dependents  tenure InternetService        Contract  \\\n",
              "0              0        0           0    18.0              No        One year   \n",
              "1              0        0           0     7.0     Fiber optic  Month-to-month   \n",
              "2              0        0           0    52.0     Fiber optic        Two year   \n",
              "3              0        1           1    46.0              No        Two year   \n",
              "4              1        1           0    40.0     Fiber optic  Month-to-month   \n",
              "\n",
              "   PaperlessBilling     PaymentMethod  MonthlyCharges  TotalCharges  \\\n",
              "0                 0      Mailed check           20.10        401.85   \n",
              "1                 0  Electronic check           96.20        639.70   \n",
              "2                 1  Electronic check          109.30       5731.40   \n",
              "3                 1      Mailed check           19.95        927.10   \n",
              "4                 0  Electronic check          101.85       4086.30   \n",
              "\n",
              "   Fibre_stream_pref  DSL_security_pref  has_phone  has_multipleline  \\\n",
              "0                  0                  0          1                 0   \n",
              "1                  1                  0          1                 1   \n",
              "2                  1                  0          1                 1   \n",
              "3                  0                  0          1                 0   \n",
              "4                  1                  0          1                 1   \n",
              "\n",
              "  tenure_bucket  avg_monthly_charge  total_addons  \\\n",
              "0           12+           22.325000             0   \n",
              "1          4-12           91.385714             2   \n",
              "2           12+          110.219231             5   \n",
              "3           12+           20.154348             0   \n",
              "4           12+          102.157500             3   \n",
              "\n",
              "                  contract_payment security_bins  streaming_bins  \\\n",
              "0            One year_Mailed check             0               0   \n",
              "1  Month-to-month_Electronic check             0               2   \n",
              "2        Two year_Electronic check            3+               2   \n",
              "3            Two year_Mailed check             0               0   \n",
              "4  Month-to-month_Electronic check             1               2   \n",
              "\n",
              "   new_customers  churn  \n",
              "0              0      0  \n",
              "1              0      0  \n",
              "2              0      0  \n",
              "3              0      0  \n",
              "4              0      1  "
            ]
          },
          "execution_count": 2,
          "metadata": {},
          "output_type": "execute_result"
        }
      ],
      "source": [
        "pd.set_option(\"display.max_columns\", None)\n",
        "df = pd.read_csv(r\"C:\\Users\\hp\\OneDrive\\เอกสาร\\Customer Churn\\dataset\\feature_engineered_data.csv\")\n",
        "df.head()"
      ]
    },
    {
      "cell_type": "code",
      "execution_count": null,
      "metadata": {},
      "outputs": [],
      "source": []
    },
    {
      "cell_type": "markdown",
      "metadata": {
        "id": "7eZHJSeF4KnT"
      },
      "source": [
        "## Split the data"
      ]
    },
    {
      "cell_type": "code",
      "execution_count": 3,
      "metadata": {
        "id": "YmppiHX94MaD"
      },
      "outputs": [],
      "source": [
        "X = df.drop(columns='churn', axis=1)\n",
        "y = df['churn']"
      ]
    },
    {
      "cell_type": "code",
      "execution_count": 4,
      "metadata": {
        "colab": {
          "base_uri": "https://localhost:8080/"
        },
        "id": "IIx9etmO4ZuH",
        "outputId": "9087dd9f-8aee-409c-97b5-2ce46728ae2e"
      },
      "outputs": [
        {
          "data": {
            "text/plain": [
              "((4929, 21), (1057, 21), (1057, 21), (4929,), (1057,), (1057,))"
            ]
          },
          "execution_count": 4,
          "metadata": {},
          "output_type": "execute_result"
        }
      ],
      "source": [
        "test_size = 0.15\n",
        "val_ratio = test_size/ (1 - test_size)\n",
        "X_temp, X_test, y_temp, y_test = train_test_split(X, y, test_size=test_size,\n",
        "                                                  stratify=y, random_state=42)\n",
        "X_train, X_val, y_train, y_val = train_test_split(X_temp, y_temp, test_size=val_ratio,\n",
        "                                                  stratify=y_temp, random_state=42)\n",
        "\n",
        "X_train.shape, X_val.shape, X_test.shape, y_train.shape, y_val.shape, y_test.shape"
      ]
    },
    {
      "cell_type": "code",
      "execution_count": 5,
      "metadata": {
        "id": "AxX27iY_5iNR"
      },
      "outputs": [],
      "source": [
        "X_tr, X_v, X_ts, y_tr = X_train.copy(), X_val.copy(), X_test.copy(), y_train.copy()"
      ]
    },
    {
      "cell_type": "code",
      "execution_count": null,
      "metadata": {
        "id": "rcF6dqlg6Cir"
      },
      "outputs": [],
      "source": []
    },
    {
      "cell_type": "markdown",
      "metadata": {
        "id": "iuqJTitf6C06"
      },
      "source": [
        "## Preprocessing"
      ]
    },
    {
      "cell_type": "code",
      "execution_count": 6,
      "metadata": {
        "id": "N3Ry6eiq3oTE"
      },
      "outputs": [],
      "source": [
        "cat_cols = X_tr.select_dtypes(include=['category', 'object']).columns.tolist()\n",
        "num_cols = X_tr.select_dtypes(exclude=['object']).columns.tolist()"
      ]
    },
    {
      "cell_type": "code",
      "execution_count": null,
      "metadata": {
        "id": "eOUMnqdk58no"
      },
      "outputs": [],
      "source": []
    },
    {
      "cell_type": "code",
      "execution_count": 7,
      "metadata": {
        "id": "s2ftl8UM3-YV"
      },
      "outputs": [],
      "source": [
        "preprocess = ColumnTransformer([\n",
        "    ('cat', OneHotEncoder(handle_unknown='ignore'), cat_cols),\n",
        "    ('num', 'passthrough', num_cols)\n",
        "])"
      ]
    },
    {
      "cell_type": "code",
      "execution_count": 8,
      "metadata": {
        "id": "yL2cnUM91DEK"
      },
      "outputs": [],
      "source": [
        "rf = RandomForestClassifier(random_state=42, n_jobs=-1, class_weight='balanced')"
      ]
    },
    {
      "cell_type": "code",
      "execution_count": 9,
      "metadata": {
        "id": "bz1f0GOF4h-q"
      },
      "outputs": [],
      "source": [
        "pipe = Pipeline([\n",
        "    ('preprocess', preprocess),\n",
        "    ('rf', rf)\n",
        "])"
      ]
    },
    {
      "cell_type": "code",
      "execution_count": null,
      "metadata": {
        "id": "5CqEybTd0fw0"
      },
      "outputs": [],
      "source": []
    },
    {
      "cell_type": "code",
      "execution_count": null,
      "metadata": {
        "colab": {
          "base_uri": "https://localhost:8080/",
          "height": 296
        },
        "id": "soQwYT2Q1N2d",
        "outputId": "b6634da4-e827-48ae-d49c-fc2aab4aed46"
      },
      "outputs": [],
      "source": [
        "cv = StratifiedKFold(n_splits=5, shuffle=True, random_state=42)\n",
        "\n",
        "param_grid = {\n",
        "    'rf__n_estimators': [200, 500],\n",
        "    'rf__max_depth': [6,10,12],\n",
        "    'rf__min_samples_leaf': [10, 20],\n",
        "    'rf__min_samples_split': [20,50],\n",
        "    'rf__max_features': [\"sqrt\", 0.3]\n",
        "}\n",
        "\n",
        "gs_tree = GridSearchCV(pipe, param_grid, cv=cv, scoring='average_precision', n_jobs=-1, verbose=1)\n",
        "gs_tree.fit(X_tr, y_tr)"
      ]
    },
    {
      "cell_type": "code",
      "execution_count": null,
      "metadata": {
        "colab": {
          "base_uri": "https://localhost:8080/"
        },
        "id": "5htk5BFr17OQ",
        "outputId": "8990b886-edef-498f-a0a7-717606fa4b99"
      },
      "outputs": [],
      "source": [
        "print(\"RF best params:\", gs_tree.best_params_)"
      ]
    },
    {
      "cell_type": "code",
      "execution_count": null,
      "metadata": {
        "colab": {
          "base_uri": "https://localhost:8080/",
          "height": 1000
        },
        "id": "5CPOYiY490wl",
        "outputId": "689b7f42-fdf0-40b8-e7ec-17e000f3da72"
      },
      "outputs": [],
      "source": [
        "\n",
        "cv = StratifiedKFold(n_splits=5, random_state=42, shuffle=True)\n",
        "\n",
        "for scoring in ['f1', 'average_precision', 'roc_auc']:\n",
        "  train_sizes, train_score, val_score = learning_curve(pipe, X, y, cv=cv,\n",
        "                                                      scoring=scoring,\n",
        "                                                      train_sizes=np.linspace(0.1, 1.0, 5),\n",
        "                                                      n_jobs=-1)\n",
        "\n",
        "  train_mean = np.mean(train_score, axis=1)\n",
        "  val_mean = np.mean(val_score, axis=1)\n",
        "\n",
        "  plt.plot(train_sizes, train_mean, label=f\"train {scoring}\")\n",
        "  plt.plot(train_sizes, val_mean, label=f\"validation {scoring}\")\n",
        "  plt.legend()\n",
        "  plt.xlabel(\"Training Samples\")\n",
        "  plt.ylabel(scoring)\n",
        "  plt.title(\"Learning Curve\")\n",
        "\n",
        "  plt.fill_between(train_sizes, train_mean - np.std(train_score,1), train_mean + np.std(train_score, 1), alpha=0.4)\n",
        "  plt.fill_between(train_sizes, val_mean - np.std(val_score, 1), val_mean + np.std(val_score, 1), alpha=0.4)\n",
        "  plt.legend()\n",
        "  plt.show()"
      ]
    },
    {
      "cell_type": "code",
      "execution_count": null,
      "metadata": {
        "colab": {
          "base_uri": "https://localhost:8080/"
        },
        "id": "2SPJ3j8X6hJQ",
        "outputId": "f82bae96-7a18-4f6c-da96-f5a1423ac923"
      },
      "outputs": [],
      "source": [
        "print(\"RF best score:\", gs_tree.best_score_)"
      ]
    },
    {
      "cell_type": "code",
      "execution_count": null,
      "metadata": {
        "colab": {
          "base_uri": "https://localhost:8080/"
        },
        "id": "cD6VvzQo6nFi",
        "outputId": "0b0fb63e-f758-4d88-91f0-77333cf32b71"
      },
      "outputs": [],
      "source": [
        "best_est_rf = gs_tree.best_estimator_\n",
        "\n",
        "y_val_pred = best_est_rf.predict(X_v)\n",
        "y_val_prob = best_est_rf.predict_proba(X_v)[:, 1]\n",
        "\n",
        "print(\"Classification Report of RF on val:\\n\", classification_report(y_val, y_val_pred))"
      ]
    },
    {
      "cell_type": "code",
      "execution_count": null,
      "metadata": {
        "colab": {
          "base_uri": "https://localhost:8080/"
        },
        "id": "_1aYr9nm66Wq",
        "outputId": "a51b3186-5e5d-41b9-f37f-690f009baca4"
      },
      "outputs": [],
      "source": [
        "print(\"RF Average precsion:\", average_precision_score(y_val, y_val_prob))\n",
        "print(\"RF ROC-AUC score:\", roc_auc_score(y_val, y_val_prob))"
      ]
    },
    {
      "cell_type": "code",
      "execution_count": null,
      "metadata": {
        "id": "m22Teu1D_n46"
      },
      "outputs": [],
      "source": []
    },
    {
      "cell_type": "code",
      "execution_count": null,
      "metadata": {
        "id": "fKr0WkfJly5A"
      },
      "outputs": [],
      "source": []
    },
    {
      "cell_type": "markdown",
      "metadata": {
        "id": "lI_AW1fQ_oJQ"
      },
      "source": [
        "## Threshold Tuning"
      ]
    },
    {
      "cell_type": "code",
      "execution_count": null,
      "metadata": {
        "colab": {
          "base_uri": "https://localhost:8080/"
        },
        "id": "X2nyZzJm7jj7",
        "outputId": "6d0d4b21-d21c-4fd2-ccfa-f15272d58ac6"
      },
      "outputs": [],
      "source": [
        "from sklearn.metrics import precision_recall_curve\n",
        "\n",
        "prec_rf, rec_rf, thresh_rf = precision_recall_curve(y_val, y_val_prob)\n",
        "\n",
        "f1_rf = 2 * prec_rf * rec_rf / (prec_rf + rec_rf + 1e-6)\n",
        "best_idx = f1_rf.argmax()\n",
        "best_thresh_rf = thresh_rf[best_idx]\n",
        "\n",
        "print(\"Best threshold taken using precision-recall curve:\", best_thresh_rf)"
      ]
    },
    {
      "cell_type": "code",
      "execution_count": null,
      "metadata": {
        "colab": {
          "base_uri": "https://localhost:8080/",
          "height": 564
        },
        "id": "A5_lYKuQAelN",
        "outputId": "53ef6a5f-46fd-4e8e-88c2-fa87b9065634"
      },
      "outputs": [],
      "source": [
        "plt.figure(figsize=(8,6))\n",
        "plt.plot(prec_rf, rec_rf)\n",
        "plt.xlabel(\"Precision\")\n",
        "plt.ylabel(\"recall\")\n",
        "plt.title(\"Precision-Recall Curve\")\n",
        "plt.show()"
      ]
    },
    {
      "cell_type": "code",
      "execution_count": null,
      "metadata": {
        "id": "OiH_zltUE0SR"
      },
      "outputs": [],
      "source": []
    },
    {
      "cell_type": "code",
      "execution_count": null,
      "metadata": {
        "colab": {
          "base_uri": "https://localhost:8080/",
          "height": 564
        },
        "id": "2fFVEjiiBjcp",
        "outputId": "323fbf71-e1c8-4b97-82c5-f1d89c9610e9"
      },
      "outputs": [],
      "source": [
        "plt.figure(figsize=(8,6))\n",
        "plt.plot(thresh_rf, f1_rf[:-1])\n",
        "plt.axvline(best_thresh_rf, linestyle='--', color='red', label='Best finded threshold')\n",
        "plt.xlabel(\"Threshold\")\n",
        "plt.ylabel(\"F1\")\n",
        "plt.title(\"Threshold-F1 with Best threshold\")\n",
        "plt.grid(True)\n",
        "plt.legend()\n",
        "plt.show()"
      ]
    },
    {
      "cell_type": "code",
      "execution_count": null,
      "metadata": {
        "colab": {
          "base_uri": "https://localhost:8080/"
        },
        "id": "1yx0P2gBEOVF",
        "outputId": "265402df-1432-42dd-f1f1-b706bb6106a3"
      },
      "outputs": [],
      "source": [
        "y_val_pred = (y_val_prob >= best_thresh_rf).astype(int)\n",
        "print(\"Classification Report on Threshold tuning:\\n\\n\", classification_report(y_val, y_val_pred))"
      ]
    },
    {
      "cell_type": "code",
      "execution_count": null,
      "metadata": {
        "id": "uRb2S5BhF8NQ"
      },
      "outputs": [],
      "source": []
    },
    {
      "cell_type": "markdown",
      "metadata": {},
      "source": [
        "Switched from logistic regression to tree models. The objective of switching was to improve the modelling as tree models are better in capturing more non-linear patterns. First took the Random Forest with GridSearchCV to fit the model with hyperparamter tuning using different folds. Used the One Hot Encoder to encode the categorical features and the metrics showed slight different from Logitsic Regression. When looking in learning curve, the overfitting can actually seen. The metrics got from the model predict and from threshold tuning was just very slight improvement from LR. The Random Forest didn't perform as expected."
      ]
    },
    {
      "cell_type": "code",
      "execution_count": null,
      "metadata": {},
      "outputs": [],
      "source": []
    },
    {
      "cell_type": "markdown",
      "metadata": {
        "id": "xLDsaWKZ93az"
      },
      "source": [
        "## SMOTE"
      ]
    },
    {
      "cell_type": "code",
      "execution_count": null,
      "metadata": {
        "id": "pD1gCKJZFSLj"
      },
      "outputs": [],
      "source": [
        "from imblearn.over_sampling import SMOTE, SMOTENC\n",
        "from imblearn.pipeline import Pipeline as ImbPipe\n",
        "from sklearn.preprocessing import OrdinalEncoder"
      ]
    },
    {
      "cell_type": "code",
      "execution_count": null,
      "metadata": {
        "id": "1AJe4AP3w7uC"
      },
      "outputs": [],
      "source": [
        "smote_rf = SMOTE(random_state=42)\n",
        "\n",
        "preprocess_enc = ColumnTransformer(\n",
        "    transformers= [\n",
        "     ('cat', OrdinalEncoder(handle_unknown='use_encoded_value', unknown_value=-1),\n",
        "     cat_cols),\n",
        "    ('num', 'passthrough', num_cols)\n",
        "])\n",
        "\n",
        "cat_idx = list(range(len(cat_cols)))\n",
        "\n",
        "pipe_en = ImbPipe([\n",
        "    ('preproces', preprocess_enc),\n",
        "    ('smotenc', SMOTENC(categorical_features=cat_idx, random_state=42)),\n",
        "     ('rf', RandomForestClassifier(random_state=42))\n",
        "])\n",
        "cv = StratifiedKFold(n_splits=5, shuffle=True, random_state=42)"
      ]
    },
    {
      "cell_type": "code",
      "execution_count": null,
      "metadata": {
        "colab": {
          "base_uri": "https://localhost:8080/",
          "height": 1000
        },
        "id": "kxouA1Jqr2Ub",
        "outputId": "c189d00b-6d8c-43cb-c567-5e78c9ede1ac"
      },
      "outputs": [],
      "source": [
        "\n",
        "for scoring in ['f1', 'average_precision', 'roc_auc']:\n",
        "  train_sizes, train_scores, val_scores = learning_curve(pipe_en, X, y,\n",
        "                                                       train_sizes=np.linspace(0.1, 1.0, 5),\n",
        "                                                       scoring=scoring, n_jobs=-1,\n",
        "                                                       cv=cv)\n",
        "  train_mean, val_mean = np.mean(train_scores, axis=1), np.mean(val_scores, axis=1)\n",
        "\n",
        "  plt.plot(train_sizes, train_mean, label=f'SMOTE train {scoring}')\n",
        "  plt.plot(train_sizes, val_mean, label=f'SMOTE validation {scoring}')\n",
        "  plt.xlabel(\"Training sample\")\n",
        "  plt.ylabel(scoring)\n",
        "\n",
        "  plt.fill_between(train_sizes, train_mean - np.std(train_scores, 1), train_mean + np.std(train_scores, 1), alpha=0.3)\n",
        "  plt.fill_between(train_sizes, val_mean - np.std(val_scores, 1), val_mean + np.std(val_scores, 1), alpha=0.3)\n",
        "\n",
        "  plt.legend()\n",
        "  plt.title(f\"Leaning curve with scoring {scoring}\")\n",
        "  plt.grid(True)\n",
        "  plt.show()"
      ]
    },
    {
      "cell_type": "code",
      "execution_count": null,
      "metadata": {
        "id": "3hMXyMiJn7ch"
      },
      "outputs": [],
      "source": []
    },
    {
      "cell_type": "markdown",
      "metadata": {
        "id": "YrsnFii3n78q"
      },
      "source": [
        "### Baseline vs class weight vs SMOTE"
      ]
    },
    {
      "cell_type": "code",
      "execution_count": null,
      "metadata": {
        "colab": {
          "base_uri": "https://localhost:8080/",
          "height": 410
        },
        "id": "pF31N7i5n7ZM",
        "outputId": "8c7c7e18-ca9d-43f2-c2df-bc33403d185f"
      },
      "outputs": [],
      "source": [
        "from sklearn.model_selection import cross_val_predict\n",
        "from sklearn.metrics import precision_recall_curve\n",
        "\n",
        "smote = SMOTE(random_state=42)\n",
        "cv = StratifiedKFold(n_splits=5, shuffle=True, random_state=42)\n",
        "\n",
        "pipe_base = Pipeline([\n",
        "    ('pre', preprocess),\n",
        "    ('rf', RandomForestClassifier(random_state=42, n_jobs=-1))\n",
        "])\n",
        "\n",
        "pipe_weight = Pipeline([\n",
        "    ('pre', preprocess),\n",
        "    ('rf', RandomForestClassifier(random_state=42, class_weight='balanced', n_jobs=-1))\n",
        "])\n",
        "\n",
        "pipe_sm = ImbPipe([\n",
        "    ('pre', preprocess),\n",
        "    ('smote', smote),\n",
        "    ('rf', RandomForestClassifier(random_state=42, n_jobs=-1))\n",
        "])\n",
        "\n",
        "\n",
        "\n",
        "probs_base = cross_val_predict(pipe_base, X, y, cv=cv, method='predict_proba', n_jobs=-1)[:, 1]\n",
        "probs_weight = cross_val_predict(pipe_weight, X, y, cv=cv, method='predict_proba', n_jobs=-1)[:, 1]\n",
        "probs_sm = cross_val_predict(pipe_sm, X, y, cv=cv, method='predict_proba', n_jobs=-1)[:, 1]\n",
        "\n",
        "plt.figure(figsize=(6,4))\n",
        "for name, pipe in [('base', pipe_base), ('class_weight', pipe_weight), ('smote', pipe_sm)]:\n",
        "  probs = cross_val_predict(pipe, X, y, cv=cv, n_jobs=-1, method='predict_proba')[:, 1]\n",
        "  prec, rec, _ = precision_recall_curve(y, probs)\n",
        "  plt.plot(prec, rec, label=name)\n",
        "\n",
        "plt.xlabel(\"Precision\")\n",
        "plt.ylabel(\"Recall\")\n",
        "plt.title(\"Precision vs Recall\")\n",
        "plt.legend()\n",
        "plt.show()"
      ]
    },
    {
      "cell_type": "code",
      "execution_count": null,
      "metadata": {
        "colab": {
          "base_uri": "https://localhost:8080/",
          "height": 564
        },
        "id": "_K5nSJ7dn7XL",
        "outputId": "2612e7c4-562f-47b1-a0c8-ee42ec518f12"
      },
      "outputs": [],
      "source": [
        "def plot_pr(y_true, y_pred, label, color):\n",
        "  prec, rec, thresh = precision_recall_curve(y_true, y_pred)\n",
        "  ap = average_precision_score(y_true, y_pred)\n",
        "  plt.plot(rec, prec, label=f'{label} AP:{ap:.2f}', color=color)\n",
        "  plt.hlines(y_true.mean(), 0, 1, colors='lightgray', linestyles='dashed', label='Baseline (pos rate)')\n",
        "\n",
        "  f1 = 2 * prec * rec / (prec + rec + 1e-12)\n",
        "  best_idx = np.argmax(f1[:-1])\n",
        "  plt.scatter(rec[best_idx], prec[best_idx], marker='o', color=color, s=60)\n",
        "  plt.text(rec[best_idx], prec[best_idx], f\"thr=   {thresh[best_idx]:.2f}\\n\\n F1={f1[best_idx]}\", fontsize=10)\n",
        "\n",
        "plt.figure(figsize=(8,6))\n",
        "plot_pr(y, probs_base, label='baseline', color='C0')\n",
        "plot_pr(y, probs_weight, label='Class weight', color='C1')\n",
        "plot_pr(y, probs_sm, label=\"SMOTE\", color='C2')\n",
        "plt.xlabel(\"Recall\")\n",
        "plt.ylabel(\"Precision\")\n",
        "plt.title(\"Precision vs Recall\")\n",
        "plt.legend()\n",
        "plt.grid(True)\n",
        "plt.show()"
      ]
    },
    {
      "cell_type": "code",
      "execution_count": null,
      "metadata": {
        "id": "1Ty66SWjn7VN"
      },
      "outputs": [],
      "source": []
    },
    {
      "cell_type": "code",
      "execution_count": null,
      "metadata": {
        "colab": {
          "base_uri": "https://localhost:8080/"
        },
        "id": "S8bsT4VGwdDC",
        "outputId": "6c8480c0-8d06-4121-aa08-6f82843bea75"
      },
      "outputs": [],
      "source": [
        "tr_idx, val_idx = next(cv.split(X, y))\n",
        "X_tr_fold, y_tr_fold = X.iloc[tr_idx], y.iloc[tr_idx]\n",
        "\n",
        "\n",
        "from sklearn.base import clone\n",
        "\n",
        "pre = clone(preprocess)\n",
        "X_tr_pre = pre.fit_transform(X_tr_fold)\n",
        "sm = SMOTE(random_state=42)\n",
        "x_sm, y_sm = sm.fit_resample(X_tr_pre, y_tr_fold)\n",
        "\n",
        "print(\"Before SMOTE:\", np.bincount(y_tr_fold))\n",
        "print(\"After SMOTE:\", np.bincount(y_sm))"
      ]
    },
    {
      "cell_type": "markdown",
      "metadata": {
        "id": "qADwbG2J5BZ9"
      },
      "source": [
        "From the plots and checks the sampling technique SMOTE don't just make the tradeoff better. All three remains almost same with some deviations in some regions. So first keeping class weight balanced RF model to perform the modelling and prediction."
      ]
    },
    {
      "cell_type": "code",
      "execution_count": null,
      "metadata": {
        "id": "FMlX4e7n6mg_"
      },
      "outputs": [],
      "source": []
    },
    {
      "cell_type": "code",
      "execution_count": null,
      "metadata": {
        "colab": {
          "base_uri": "https://localhost:8080/",
          "height": 318
        },
        "id": "UOc2Xo0-GXmL",
        "outputId": "2347e183-f226-4e42-87c1-7ce43df96cbc"
      },
      "outputs": [],
      "source": [
        "\n",
        "\n",
        "pipe_rf = ImbPipe([\n",
        "    ('preprocess', preprocess),\n",
        "    ('smote', smote),\n",
        "    ('rf', rf)\n",
        "])\n",
        "\n",
        "param_grid = {\n",
        "    'rf__n_estimators': [200, 500],\n",
        "    'rf__max_depth': [6,10,12],\n",
        "    'rf__min_samples_leaf': [5,10, 20,50],\n",
        "    'rf__min_samples_split': [10,20,30,50],\n",
        "    'rf__max_features': [\"sqrt\", 0.3, 0.5]\n",
        "}\n",
        "\n",
        "cv_sm_rf = StratifiedKFold(n_splits=5, shuffle=True, random_state=42)\n",
        "grid_sm_rf = GridSearchCV(pipe_rf, param_grid=param_grid, cv=cv_sm_rf,\n",
        "                          scoring='average_precision', n_jobs=-1)\n",
        "\n",
        "grid_sm_rf.fit(X_tr, y_tr)"
      ]
    },
    {
      "cell_type": "code",
      "execution_count": null,
      "metadata": {
        "colab": {
          "base_uri": "https://localhost:8080/"
        },
        "id": "dqbvD-RSHpNG",
        "outputId": "1c9421ba-9415-4d8b-dd63-bf8a5dee7c16"
      },
      "outputs": [],
      "source": [
        "best_est_sm_rf = grid_sm_rf.best_estimator_\n",
        "\n",
        "print(\"Best estimator score of rf (SMOTE):\", grid_sm_rf.best_score_)"
      ]
    },
    {
      "cell_type": "code",
      "execution_count": null,
      "metadata": {
        "colab": {
          "base_uri": "https://localhost:8080/"
        },
        "id": "eQDi6meQImTm",
        "outputId": "0623d880-ec73-4c06-8276-89d02b29a08e"
      },
      "outputs": [],
      "source": [
        "y_val_predrf_sm = best_est_sm_rf.predict(X_v)\n",
        "y_val_probrf_sm = best_est_sm_rf.predict_proba(X_v)[:, 1]\n",
        "\n",
        "print(\"Classification Report on rf (SMOTE):\\n\", classification_report(y_val, y_val_predrf_sm))"
      ]
    },
    {
      "cell_type": "code",
      "execution_count": null,
      "metadata": {
        "colab": {
          "base_uri": "https://localhost:8080/"
        },
        "id": "UakSVQLZJJhY",
        "outputId": "a6e5a80a-daa3-4b0c-dc82-de9c111440c6"
      },
      "outputs": [],
      "source": [
        "prec_sm_rf, rec_sm_rf, thresh_sm_rf = precision_recall_curve(y_val, y_val_probrf_sm)\n",
        "\n",
        "f1_sm_rf = 2 * prec_sm_rf * rec_sm_rf / (prec_sm_rf + rec_sm_rf)\n",
        "f1_sm_rf = np.nan_to_num(f1_sm_rf)\n",
        "best_idx_sm = np.argmax(f1_sm_rf[:-1])\n",
        "best_thr_rf = thresh_sm_rf[best_idx_sm]\n",
        "\n",
        "print(\"Best found threshold:\", best_thr_rf)"
      ]
    },
    {
      "cell_type": "code",
      "execution_count": null,
      "metadata": {
        "colab": {
          "base_uri": "https://localhost:8080/",
          "height": 564
        },
        "id": "jWfiRYPiFfX2",
        "outputId": "a59d76fb-8111-4117-f979-f244b70a0d83"
      },
      "outputs": [],
      "source": [
        "plt.figure(figsize=(8,6))\n",
        "\n",
        "plt.plot(prec_sm_rf, rec_sm_rf)\n",
        "plt.xlabel(\"Precision\")\n",
        "plt.ylabel(\"Recall\")\n",
        "plt.title(\"Precision vs Recall (SMOTE)\")\n",
        "plt.show()"
      ]
    },
    {
      "cell_type": "code",
      "execution_count": null,
      "metadata": {
        "colab": {
          "base_uri": "https://localhost:8080/",
          "height": 410
        },
        "id": "B64IYO5bGH74",
        "outputId": "64ad0db1-eab1-421c-bf65-7604cc54e92e"
      },
      "outputs": [],
      "source": [
        "plt.figure(figsize=(8,4))\n",
        "\n",
        "plt.plot(thresh_sm_rf, f1_sm_rf[:-1])\n",
        "plt.axvline(best_thr_rf, linestyle='--', color='red', label='Best thresholf found')\n",
        "plt.xlabel(\"Threshold\")\n",
        "plt.ylabel(\"Recall\")\n",
        "plt.title(\"Threshold vs F1 (Best threshold point)\")\n",
        "plt.grid(True)\n",
        "plt.legend()\n",
        "plt.show()"
      ]
    },
    {
      "cell_type": "code",
      "execution_count": null,
      "metadata": {
        "colab": {
          "base_uri": "https://localhost:8080/"
        },
        "id": "WQVzG3MeMSoi",
        "outputId": "4cc5aadf-8209-408c-d60d-81721d6be665"
      },
      "outputs": [],
      "source": [
        "y_val_pred_rf = (y_val_probrf_sm >= best_thr_rf).astype(int)\n",
        "print(\"Classification Report on best threshold:\\n\\n\", classification_report(y_val, y_val_pred_rf))\n",
        "print(\"\\nConfusion Matrix:\\n\", confusion_matrix(y_val, y_val_pred_rf))"
      ]
    },
    {
      "cell_type": "code",
      "execution_count": null,
      "metadata": {
        "id": "xgWA_48XJaWP"
      },
      "outputs": [],
      "source": []
    },
    {
      "cell_type": "markdown",
      "metadata": {},
      "source": [
        "From the SMOTE technique as to make the minority class now ignores the problem of imbalance. When compared the baseline model vs balanced model vs the smote integrated model there doesn't saw any impact. From the plot of the compared techniques, it was clear that these techniques were found same impact. The problem was not with the imbalance. With the SMOTE performed GridSearchCV for hyperparameter tuning and threshhold tuning, the model doesn't performed better as same results compared to baseline RandomForest."
      ]
    },
    {
      "cell_type": "code",
      "execution_count": null,
      "metadata": {
        "id": "rsMskTM1JaS4"
      },
      "outputs": [],
      "source": []
    },
    {
      "cell_type": "markdown",
      "metadata": {
        "id": "_N85xcOlJawW"
      },
      "source": [
        "## randomized Search CV"
      ]
    },
    {
      "cell_type": "code",
      "execution_count": null,
      "metadata": {
        "colab": {
          "base_uri": "https://localhost:8080/",
          "height": 278
        },
        "id": "wc9gwrkU7bNb",
        "outputId": "7e9c3003-a2be-403a-9117-9cc1d3f62c26"
      },
      "outputs": [],
      "source": [
        "from sklearn.metrics import precision_recall_curve\n",
        "\n",
        "\n",
        "rf = RandomForestClassifier(random_state=42, n_jobs=-1, class_weight='balanced')\n",
        "\n",
        "pipe = Pipeline([\n",
        "    ('preprocess', preprocess),\n",
        "    ('rf', rf)\n",
        "])\n",
        "\n",
        "param_dist = {\n",
        "    'rf__n_estimators': [200, 500, 800],\n",
        "    'rf__max_depth': [4,8,12,16, None],\n",
        "    'rf__min_samples_split': [5,10,15,20],\n",
        "    'rf__min_samples_leaf': [2,5,10,12],\n",
        "    'rf__max_features': ['sqrt', 0.3, 0.5]\n",
        "}\n",
        "\n",
        "rs = RandomizedSearchCV(pipe, param_distributions=param_dist,\n",
        "                        n_iter=20, scoring='average_precision',\n",
        "                        cv=5, random_state=42, n_jobs=-1)\n",
        "\n",
        "rs.fit(X_tr, y_tr)"
      ]
    },
    {
      "cell_type": "code",
      "execution_count": null,
      "metadata": {
        "colab": {
          "base_uri": "https://localhost:8080/"
        },
        "id": "f8GA7tar7bJz",
        "outputId": "195fa374-bfc3-4002-85ad-f6267e35962b"
      },
      "outputs": [],
      "source": [
        "print(\"Best parameters:\", rs.best_params_)\n",
        "print(\"Best score:\", rs.best_score_)\n",
        "\n",
        "\n",
        "best_est_rs = rs.best_estimator_"
      ]
    },
    {
      "cell_type": "code",
      "execution_count": null,
      "metadata": {
        "colab": {
          "base_uri": "https://localhost:8080/"
        },
        "id": "NidoZvhT_ejK",
        "outputId": "9b1ad2fd-c87d-4ca7-c813-a822cd5f2169"
      },
      "outputs": [],
      "source": [
        "from sklearn.metrics import precision_recall_curve\n",
        "\n",
        "y_val_pred_rs = best_est_rs.predict(X_v)\n",
        "y_val_prob_rs = best_est_rs.predict_proba(X_v)[:, 1]\n",
        "\n",
        "prec_res, rec_res, thr_rs = precision_recall_curve(y_val, y_val_prob_rs)\n",
        "idx = np.where(rec_res >= 0.7)[0][-1]\n",
        "best_thr = thr_rs[idx]\n",
        "\n",
        "print(\"Chosen threshold:\", best_thr)\n"
      ]
    },
    {
      "cell_type": "code",
      "execution_count": null,
      "metadata": {
        "colab": {
          "base_uri": "https://localhost:8080/"
        },
        "id": "tOcUVfWe_ef_",
        "outputId": "110b1aa4-25db-4c0e-b323-424a6b468ff6"
      },
      "outputs": [],
      "source": [
        "y_val_prob = (y_val_prob_rs >= best_thr).astype(int)\n",
        "print(\"Confusion matrix:\\n\\n\", confusion_matrix(y_val, y_val_prob))\n",
        "print(\"\\n\\nClassification Report:\\n\\n\", classification_report(y_val, y_val_pred_rs))"
      ]
    },
    {
      "cell_type": "code",
      "execution_count": null,
      "metadata": {
        "colab": {
          "base_uri": "https://localhost:8080/",
          "height": 564
        },
        "id": "mbTriD4cBFaI",
        "outputId": "db6ba363-aa47-41e2-e72c-9c071b06d3ec"
      },
      "outputs": [],
      "source": [
        "prec, rec, thresh  = precision_recall_curve(y_val, y_val_prob_rs)\n",
        "\n",
        "plt.figure(figsize=(8,6))\n",
        "plt.plot(prec, rec)\n",
        "plt.xlabel(\"Precision\")\n",
        "plt.ylabel(\"Recall\")\n",
        "plt.title(\"Precision vs Recall\")\n",
        "plt.show()"
      ]
    },
    {
      "cell_type": "code",
      "execution_count": null,
      "metadata": {
        "colab": {
          "base_uri": "https://localhost:8080/"
        },
        "id": "bNhBZtm2BFWo",
        "outputId": "78049d07-8fa1-4984-d8f4-720bf782f1a8"
      },
      "outputs": [],
      "source": [
        "f1 = 2 * prec * rec / (prec + rec + 1e-6)\n",
        "best_idx = np.argmax(f1[:-1])\n",
        "best_thrssh = thresh[best_idx]\n",
        "best_f1 = f1[:-1][best_idx]\n",
        "print(\"Best threshold:\", best_thrssh, \"Best F1:\", best_f1)"
      ]
    },
    {
      "cell_type": "code",
      "execution_count": null,
      "metadata": {
        "colab": {
          "base_uri": "https://localhost:8080/"
        },
        "id": "p8m6sFOLIts1",
        "outputId": "f8c14cd3-91a0-4f49-ab95-644d83a62be3"
      },
      "outputs": [],
      "source": [
        "y_val_pred = (y_val_prob_rs >= best_thrssh).astype(int)\n",
        "print(\"Classification report on threshold tunining from PR-curve:\", classification_report(y_val, y_val_pred))"
      ]
    },
    {
      "cell_type": "code",
      "execution_count": null,
      "metadata": {
        "id": "Q50k3hcV_eeL"
      },
      "outputs": [],
      "source": []
    },
    {
      "cell_type": "code",
      "execution_count": null,
      "metadata": {
        "id": "FlMBl-mVYuZV"
      },
      "outputs": [],
      "source": []
    },
    {
      "cell_type": "markdown",
      "metadata": {
        "id": "-5kNjpKAd0t3"
      },
      "source": [
        "## Calibration"
      ]
    },
    {
      "cell_type": "code",
      "execution_count": null,
      "metadata": {
        "colab": {
          "base_uri": "https://localhost:8080/",
          "height": 278
        },
        "id": "KUXqzELIZG5u",
        "outputId": "8de705fc-7985-4615-8e3b-736bfabaf1e7"
      },
      "outputs": [],
      "source": [
        "from sklearn.calibration import calibration_curve, CalibratedClassifierCV\n",
        "from sklearn.metrics import brier_score_loss\n",
        "\n",
        "\n",
        "cal_rf = CalibratedClassifierCV(best_est_rs, cv=5, method='isotonic')\n",
        "cal_rf.fit(X_tr, y_tr)\n"
      ]
    },
    {
      "cell_type": "code",
      "execution_count": null,
      "metadata": {
        "colab": {
          "base_uri": "https://localhost:8080/"
        },
        "id": "rHUOwlhOaG6S",
        "outputId": "3ef5c8e4-090f-4ab2-adcb-ed65cc665b23"
      },
      "outputs": [],
      "source": [
        "predict_calprob = cal_rf.predict_proba(X_v)[:, 1]\n",
        "\n",
        "print(\"PR-AUC:\", average_precision_score(y_val, predict_calprob))\n",
        "print(\"Uncalibrated brier score:\", brier_score_loss(y_val, y_val_prob_rs))\n",
        "print(\"Calibrated Brier score:\", brier_score_loss(y_val, predict_calprob))"
      ]
    },
    {
      "cell_type": "code",
      "execution_count": null,
      "metadata": {
        "id": "fuLzHIklbFLE"
      },
      "outputs": [],
      "source": []
    },
    {
      "cell_type": "markdown",
      "metadata": {
        "id": "lP_UK2Gfbdsj"
      },
      "source": [
        "### Calibration curve"
      ]
    },
    {
      "cell_type": "code",
      "execution_count": null,
      "metadata": {
        "colab": {
          "base_uri": "https://localhost:8080/",
          "height": 564
        },
        "id": "N7MVqyFlaptu",
        "outputId": "142722a0-5e87-46c7-f145-fc05aac46cfd"
      },
      "outputs": [],
      "source": [
        "true_pred_rf, prob_pred_rf = calibration_curve(y_val, predict_calprob, n_bins=10)\n",
        "\n",
        "plt.figure(figsize=(8,6))\n",
        "plt.plot(true_pred_rf, prob_pred_rf, marker='o')\n",
        "plt.xlabel(\"True Prediction\")\n",
        "plt.ylabel(\"Predicted Probability\")\n",
        "plt.title(\"True Prediction vs Predicted Probabaility (Calibration)\")\n",
        "plt.grid(True)\n",
        "plt.show()"
      ]
    },
    {
      "cell_type": "code",
      "execution_count": null,
      "metadata": {
        "colab": {
          "base_uri": "https://localhost:8080/"
        },
        "id": "_BnGWHwHcQQs",
        "outputId": "611f319c-5661-47b5-d064-72a3ee794ee9"
      },
      "outputs": [],
      "source": [
        "prec_rf, rec_rf, thresh_rf = precision_recall_curve(y_val, predict_calprob)\n",
        "\n",
        "f1_rf = 2 * prec_rf * rec_rf / (prec_rf + rec_rf + 1e-8)\n",
        "best_idx_rf = np.argmax(f1_rf[:-1])\n",
        "best_thrsh = thresh_rf[best_idx_rf]\n",
        "\n",
        "print(\"Best Threshold using calibration:\", best_thrsh)"
      ]
    },
    {
      "cell_type": "code",
      "execution_count": null,
      "metadata": {
        "colab": {
          "base_uri": "https://localhost:8080/"
        },
        "id": "KbJ0RUuvdOqx",
        "outputId": "6de50a2c-1b61-420a-cd38-7c74aa38d16e"
      },
      "outputs": [],
      "source": [
        "y_val_pred_rf = (predict_calprob >= best_thrsh).astype(int)\n",
        "print(\"Classification Report (calibration):\\n\\n\", classification_report(y_val, y_val_pred_rf))"
      ]
    },
    {
      "cell_type": "code",
      "execution_count": null,
      "metadata": {
        "id": "mdz7MnNudHas"
      },
      "outputs": [],
      "source": []
    },
    {
      "cell_type": "markdown",
      "metadata": {},
      "source": [
        "From randomized search cv, the model slightly good at catching churners, but too the improvement in F1 was not impactful. The RandomForest are not performing as expected. Furthur feature engineering or use of boosting models is preffered."
      ]
    },
    {
      "cell_type": "code",
      "execution_count": null,
      "metadata": {
        "id": "R9U9nL1edHUw"
      },
      "outputs": [],
      "source": []
    },
    {
      "cell_type": "code",
      "execution_count": null,
      "metadata": {
        "id": "qWl7XZpvnLFC"
      },
      "outputs": [],
      "source": []
    },
    {
      "cell_type": "markdown",
      "metadata": {},
      "source": [
        "## Furthur Feature engineering and Analysis"
      ]
    },
    {
      "cell_type": "code",
      "execution_count": 14,
      "metadata": {
        "id": "S04xBe48loBQ"
      },
      "outputs": [],
      "source": [
        "from sklearn.metrics import precision_recall_curve\n",
        "from imblearn.over_sampling import SMOTE\n",
        "from imblearn.pipeline import Pipeline as Imbpipe\n",
        "from sklearn.preprocessing import OneHotEncoder, StandardScaler\n",
        "from sklearn.model_selection import learning_curve, StratifiedKFold\n",
        "from sklearn.pipeline import Pipeline\n",
        "from imblearn.pipeline import Pipeline as Imbpipe"
      ]
    },
    {
      "cell_type": "code",
      "execution_count": 37,
      "metadata": {
        "id": "cLjEQtbXln-8"
      },
      "outputs": [],
      "source": [
        "X_new = X"
      ]
    },
    {
      "cell_type": "code",
      "execution_count": 38,
      "metadata": {
        "id": "Dp64hX9YnOfg"
      },
      "outputs": [],
      "source": [
        "X_new['spend_per_addon'] = X_new['MonthlyCharges'] / (1 + X_new['total_addons'])"
      ]
    },
    {
      "cell_type": "code",
      "execution_count": 17,
      "metadata": {
        "colab": {
          "base_uri": "https://localhost:8080/",
          "height": 365
        },
        "id": "d9Gd-yheYcrt",
        "outputId": "31a7ae13-68df-4e48-d030-11e045f6dd43"
      },
      "outputs": [
        {
          "data": {
            "text/html": [
              "<div>\n",
              "<style scoped>\n",
              "    .dataframe tbody tr th:only-of-type {\n",
              "        vertical-align: middle;\n",
              "    }\n",
              "\n",
              "    .dataframe tbody tr th {\n",
              "        vertical-align: top;\n",
              "    }\n",
              "\n",
              "    .dataframe thead th {\n",
              "        text-align: right;\n",
              "    }\n",
              "</style>\n",
              "<table border=\"1\" class=\"dataframe\">\n",
              "  <thead>\n",
              "    <tr style=\"text-align: right;\">\n",
              "      <th></th>\n",
              "      <th>SeniorCitizen</th>\n",
              "      <th>Partner</th>\n",
              "      <th>Dependents</th>\n",
              "      <th>tenure</th>\n",
              "      <th>InternetService</th>\n",
              "      <th>Contract</th>\n",
              "      <th>PaperlessBilling</th>\n",
              "      <th>PaymentMethod</th>\n",
              "      <th>MonthlyCharges</th>\n",
              "      <th>TotalCharges</th>\n",
              "      <th>Fibre_stream_pref</th>\n",
              "      <th>DSL_security_pref</th>\n",
              "      <th>has_phone</th>\n",
              "      <th>has_multipleline</th>\n",
              "      <th>tenure_bucket</th>\n",
              "      <th>avg_monthly_charge</th>\n",
              "      <th>total_addons</th>\n",
              "      <th>contract_payment</th>\n",
              "      <th>security_bins</th>\n",
              "      <th>streaming_bins</th>\n",
              "      <th>new_customers</th>\n",
              "      <th>spend_per_addon</th>\n",
              "    </tr>\n",
              "  </thead>\n",
              "  <tbody>\n",
              "    <tr>\n",
              "      <th>0</th>\n",
              "      <td>0</td>\n",
              "      <td>0</td>\n",
              "      <td>0</td>\n",
              "      <td>18.0</td>\n",
              "      <td>No</td>\n",
              "      <td>One year</td>\n",
              "      <td>0</td>\n",
              "      <td>Mailed check</td>\n",
              "      <td>20.10</td>\n",
              "      <td>401.85</td>\n",
              "      <td>0</td>\n",
              "      <td>0</td>\n",
              "      <td>1</td>\n",
              "      <td>0</td>\n",
              "      <td>12+</td>\n",
              "      <td>22.325000</td>\n",
              "      <td>0</td>\n",
              "      <td>One year_Mailed check</td>\n",
              "      <td>0</td>\n",
              "      <td>0</td>\n",
              "      <td>0</td>\n",
              "      <td>20.100000</td>\n",
              "    </tr>\n",
              "    <tr>\n",
              "      <th>1</th>\n",
              "      <td>0</td>\n",
              "      <td>0</td>\n",
              "      <td>0</td>\n",
              "      <td>7.0</td>\n",
              "      <td>Fiber optic</td>\n",
              "      <td>Month-to-month</td>\n",
              "      <td>0</td>\n",
              "      <td>Electronic check</td>\n",
              "      <td>96.20</td>\n",
              "      <td>639.70</td>\n",
              "      <td>1</td>\n",
              "      <td>0</td>\n",
              "      <td>1</td>\n",
              "      <td>1</td>\n",
              "      <td>4-12</td>\n",
              "      <td>91.385714</td>\n",
              "      <td>2</td>\n",
              "      <td>Month-to-month_Electronic check</td>\n",
              "      <td>0</td>\n",
              "      <td>2</td>\n",
              "      <td>0</td>\n",
              "      <td>32.066667</td>\n",
              "    </tr>\n",
              "    <tr>\n",
              "      <th>2</th>\n",
              "      <td>0</td>\n",
              "      <td>0</td>\n",
              "      <td>0</td>\n",
              "      <td>52.0</td>\n",
              "      <td>Fiber optic</td>\n",
              "      <td>Two year</td>\n",
              "      <td>1</td>\n",
              "      <td>Electronic check</td>\n",
              "      <td>109.30</td>\n",
              "      <td>5731.40</td>\n",
              "      <td>1</td>\n",
              "      <td>0</td>\n",
              "      <td>1</td>\n",
              "      <td>1</td>\n",
              "      <td>12+</td>\n",
              "      <td>110.219231</td>\n",
              "      <td>5</td>\n",
              "      <td>Two year_Electronic check</td>\n",
              "      <td>3+</td>\n",
              "      <td>2</td>\n",
              "      <td>0</td>\n",
              "      <td>18.216667</td>\n",
              "    </tr>\n",
              "    <tr>\n",
              "      <th>3</th>\n",
              "      <td>0</td>\n",
              "      <td>1</td>\n",
              "      <td>1</td>\n",
              "      <td>46.0</td>\n",
              "      <td>No</td>\n",
              "      <td>Two year</td>\n",
              "      <td>1</td>\n",
              "      <td>Mailed check</td>\n",
              "      <td>19.95</td>\n",
              "      <td>927.10</td>\n",
              "      <td>0</td>\n",
              "      <td>0</td>\n",
              "      <td>1</td>\n",
              "      <td>0</td>\n",
              "      <td>12+</td>\n",
              "      <td>20.154348</td>\n",
              "      <td>0</td>\n",
              "      <td>Two year_Mailed check</td>\n",
              "      <td>0</td>\n",
              "      <td>0</td>\n",
              "      <td>0</td>\n",
              "      <td>19.950000</td>\n",
              "    </tr>\n",
              "    <tr>\n",
              "      <th>4</th>\n",
              "      <td>1</td>\n",
              "      <td>1</td>\n",
              "      <td>0</td>\n",
              "      <td>40.0</td>\n",
              "      <td>Fiber optic</td>\n",
              "      <td>Month-to-month</td>\n",
              "      <td>0</td>\n",
              "      <td>Electronic check</td>\n",
              "      <td>101.85</td>\n",
              "      <td>4086.30</td>\n",
              "      <td>1</td>\n",
              "      <td>0</td>\n",
              "      <td>1</td>\n",
              "      <td>1</td>\n",
              "      <td>12+</td>\n",
              "      <td>102.157500</td>\n",
              "      <td>3</td>\n",
              "      <td>Month-to-month_Electronic check</td>\n",
              "      <td>1</td>\n",
              "      <td>2</td>\n",
              "      <td>0</td>\n",
              "      <td>25.462500</td>\n",
              "    </tr>\n",
              "  </tbody>\n",
              "</table>\n",
              "</div>"
            ],
            "text/plain": [
              "   SeniorCitizen  Partner  Dependents  tenure InternetService        Contract  \\\n",
              "0              0        0           0    18.0              No        One year   \n",
              "1              0        0           0     7.0     Fiber optic  Month-to-month   \n",
              "2              0        0           0    52.0     Fiber optic        Two year   \n",
              "3              0        1           1    46.0              No        Two year   \n",
              "4              1        1           0    40.0     Fiber optic  Month-to-month   \n",
              "\n",
              "   PaperlessBilling     PaymentMethod  MonthlyCharges  TotalCharges  \\\n",
              "0                 0      Mailed check           20.10        401.85   \n",
              "1                 0  Electronic check           96.20        639.70   \n",
              "2                 1  Electronic check          109.30       5731.40   \n",
              "3                 1      Mailed check           19.95        927.10   \n",
              "4                 0  Electronic check          101.85       4086.30   \n",
              "\n",
              "   Fibre_stream_pref  DSL_security_pref  has_phone  has_multipleline  \\\n",
              "0                  0                  0          1                 0   \n",
              "1                  1                  0          1                 1   \n",
              "2                  1                  0          1                 1   \n",
              "3                  0                  0          1                 0   \n",
              "4                  1                  0          1                 1   \n",
              "\n",
              "  tenure_bucket  avg_monthly_charge  total_addons  \\\n",
              "0           12+           22.325000             0   \n",
              "1          4-12           91.385714             2   \n",
              "2           12+          110.219231             5   \n",
              "3           12+           20.154348             0   \n",
              "4           12+          102.157500             3   \n",
              "\n",
              "                  contract_payment security_bins  streaming_bins  \\\n",
              "0            One year_Mailed check             0               0   \n",
              "1  Month-to-month_Electronic check             0               2   \n",
              "2        Two year_Electronic check            3+               2   \n",
              "3            Two year_Mailed check             0               0   \n",
              "4  Month-to-month_Electronic check             1               2   \n",
              "\n",
              "   new_customers  spend_per_addon  \n",
              "0              0        20.100000  \n",
              "1              0        32.066667  \n",
              "2              0        18.216667  \n",
              "3              0        19.950000  \n",
              "4              0        25.462500  "
            ]
          },
          "execution_count": 17,
          "metadata": {},
          "output_type": "execute_result"
        }
      ],
      "source": [
        "pd.set_option('display.max_columns', None)\n",
        "X_new.head()"
      ]
    },
    {
      "cell_type": "code",
      "execution_count": null,
      "metadata": {
        "id": "w4DI6psNkxpL"
      },
      "outputs": [],
      "source": []
    },
    {
      "cell_type": "code",
      "execution_count": 18,
      "metadata": {
        "colab": {
          "base_uri": "https://localhost:8080/"
        },
        "id": "f8ixHleEiajV",
        "outputId": "339d5041-8d4d-4e39-db96-21ceb9255ac2"
      },
      "outputs": [
        {
          "data": {
            "text/plain": [
              "((4929, 22), (1057, 22), (4929,), (1057,), (1057, 22), (1057,))"
            ]
          },
          "execution_count": 18,
          "metadata": {},
          "output_type": "execute_result"
        }
      ],
      "source": [
        "test_size=0.15\n",
        "val_ratio = test_size / (1-test_size)\n",
        "\n",
        "X_temp, X_test_new, y_temp, y_test_new = train_test_split(X_new, y, test_size=test_size,\n",
        "                                                          stratify=y, random_state=42)\n",
        "\n",
        "X_tr_new, X_val_new, y_tr_new, y_val_new = train_test_split(X_temp, y_temp,\n",
        "                                                            test_size=val_ratio,\n",
        "                                                            stratify=y_temp,\n",
        "                                                            random_state=42)\n",
        "\n",
        "X_tr_new.shape, X_val_new.shape, y_tr_new.shape, y_val_new.shape, X_test_new.shape, y_test_new.shape"
      ]
    },
    {
      "cell_type": "code",
      "execution_count": 19,
      "metadata": {
        "id": "ThIctbdWnPh-"
      },
      "outputs": [],
      "source": [
        "num_cols_new = X_tr_new.select_dtypes(include='number').columns.tolist()\n",
        "cat_cols_new = X_tr_new.select_dtypes(include=['category', 'object']).columns.tolist()"
      ]
    },
    {
      "cell_type": "code",
      "execution_count": 20,
      "metadata": {
        "colab": {
          "base_uri": "https://localhost:8080/"
        },
        "id": "VE0UEblzmAhP",
        "outputId": "2979ba9a-aa47-459a-c47f-184cc44bcbe7"
      },
      "outputs": [
        {
          "name": "stdout",
          "output_type": "stream",
          "text": [
            "Numeric col - SeniorCitizen ROC-AUC: 0.562\n",
            "Numeric col - Partner ROC-AUC: 0.425\n",
            "Numeric col - Dependents ROC-AUC: 0.421\n",
            "Numeric col - tenure ROC-AUC: 0.268\n",
            "Numeric col - PaperlessBilling ROC-AUC: 0.610\n",
            "Numeric col - MonthlyCharges ROC-AUC: 0.632\n",
            "Numeric col - TotalCharges ROC-AUC: 0.358\n",
            "Numeric col - Fibre_stream_pref ROC-AUC: 0.618\n",
            "Numeric col - DSL_security_pref ROC-AUC: 0.409\n",
            "Numeric col - has_phone ROC-AUC: 0.506\n",
            "Numeric col - has_multipleline ROC-AUC: 0.528\n",
            "Numeric col - avg_monthly_charge ROC-AUC: 0.630\n",
            "Numeric col - total_addons ROC-AUC: 0.472\n",
            "Numeric col - streaming_bins ROC-AUC: 0.553\n",
            "Numeric col - new_customers ROC-AUC: 0.615\n",
            "Numeric col - spend_per_addon ROC-AUC: 0.715\n"
          ]
        }
      ],
      "source": [
        "for col in num_cols_new:\n",
        "  auc = roc_auc_score(y_tr_new, X_tr_new[col])\n",
        "  print(f\"Numeric col - {col} ROC-AUC: {auc:.3f}\")"
      ]
    },
    {
      "cell_type": "code",
      "execution_count": null,
      "metadata": {
        "id": "TTLNfPrHbV8x"
      },
      "outputs": [],
      "source": []
    },
    {
      "cell_type": "code",
      "execution_count": 21,
      "metadata": {
        "colab": {
          "base_uri": "https://localhost:8080/"
        },
        "id": "PcdmJV-ZrJNW",
        "outputId": "05e9b7fc-5d33-4c55-ce76-3c74a954b355"
      },
      "outputs": [
        {
          "name": "stdout",
          "output_type": "stream",
          "text": [
            "Categrocial col InternetService_DSL (OHE transformed)  - ROC AUC Score : 0.43\n",
            "Categrocial col InternetService_Fiber optic (OHE transformed)  - ROC AUC Score : 0.67\n",
            "Categrocial col InternetService_No (OHE transformed)  - ROC AUC Score : 0.39\n",
            "Categrocial col Contract_Month-to-month (OHE transformed)  - ROC AUC Score : 0.73\n",
            "Categrocial col Contract_One year (OHE transformed)  - ROC AUC Score : 0.42\n",
            "Categrocial col Contract_Two year (OHE transformed)  - ROC AUC Score : 0.35\n",
            "Categrocial col PaymentMethod_Automatic (OHE transformed)  - ROC AUC Score : 0.38\n",
            "Categrocial col PaymentMethod_Electronic check (OHE transformed)  - ROC AUC Score : 0.66\n",
            "Categrocial col PaymentMethod_Mailed check (OHE transformed)  - ROC AUC Score : 0.46\n",
            "Categrocial col tenure_bucket_0-3 (OHE transformed)  - ROC AUC Score : 0.62\n",
            "Categrocial col tenure_bucket_12+ (OHE transformed)  - ROC AUC Score : 0.33\n",
            "Categrocial col tenure_bucket_4-12 (OHE transformed)  - ROC AUC Score : 0.55\n",
            "Categrocial col tenure_bucket_Zero (OHE transformed)  - ROC AUC Score : 0.50\n",
            "Categrocial col contract_payment_Month-to-month_Automatic (OHE transformed)  - ROC AUC Score : 0.53\n",
            "Categrocial col contract_payment_Month-to-month_Electronic check (OHE transformed)  - ROC AUC Score : 0.68\n",
            "Categrocial col contract_payment_Month-to-month_Mailed check (OHE transformed)  - ROC AUC Score : 0.52\n",
            "Categrocial col contract_payment_One year_Automatic (OHE transformed)  - ROC AUC Score : 0.45\n",
            "Categrocial col contract_payment_One year_Electronic check (OHE transformed)  - ROC AUC Score : 0.49\n",
            "Categrocial col contract_payment_One year_Mailed check (OHE transformed)  - ROC AUC Score : 0.48\n",
            "Categrocial col contract_payment_Two year_Automatic (OHE transformed)  - ROC AUC Score : 0.40\n",
            "Categrocial col contract_payment_Two year_Electronic check (OHE transformed)  - ROC AUC Score : 0.49\n",
            "Categrocial col contract_payment_Two year_Mailed check (OHE transformed)  - ROC AUC Score : 0.46\n",
            "Categrocial col security_bins_0 (OHE transformed)  - ROC AUC Score : 0.53\n",
            "Categrocial col security_bins_1 (OHE transformed)  - ROC AUC Score : 0.57\n",
            "Categrocial col security_bins_2 (OHE transformed)  - ROC AUC Score : 0.49\n",
            "Categrocial col security_bins_3+ (OHE transformed)  - ROC AUC Score : 0.42\n"
          ]
        }
      ],
      "source": [
        "ohe = OneHotEncoder(drop=None, handle_unknown='ignore', sparse_output=False)\n",
        "X_cat_ohe = ohe.fit_transform(X_new[cat_cols_new])\n",
        "\n",
        "selected_ohe_col = []\n",
        "for i, col in enumerate(ohe.get_feature_names_out(cat_cols_new)):\n",
        "  auc = roc_auc_score(y, X_cat_ohe[:, i])\n",
        "  if auc > 0.6:\n",
        "    selected_ohe_col.append(col)\n",
        "  print(f\"Categrocial col {col} (OHE transformed)  - ROC AUC Score : {auc:.2f}\")"
      ]
    },
    {
      "cell_type": "code",
      "execution_count": null,
      "metadata": {
        "id": "RguYQwDBfulp"
      },
      "outputs": [],
      "source": []
    },
    {
      "cell_type": "markdown",
      "metadata": {
        "id": "Kud6yyb4F9bt"
      },
      "source": [
        "### Feature interactions"
      ]
    },
    {
      "cell_type": "code",
      "execution_count": 22,
      "metadata": {
        "id": "v8xQys3OkVPd"
      },
      "outputs": [],
      "source": [
        "def create_flag(df, name):\n",
        "\n",
        "  orig, cat = name.split('_', 1)\n",
        "  safe_cat = cat\n",
        "\n",
        "  if orig in df.columns:\n",
        "    new_col = f\"flag_{orig}__{safe_cat.replace(' ', '_')}\"\n",
        "    df[new_col] = (df[orig].astype(str) == safe_cat).astype(int)\n",
        "    return new_col\n",
        "\n",
        "  if orig == 'contract' or orig == 'contract_payment' or '__' in name:\n",
        "\n",
        "    parts = name.split('_')\n",
        "\n",
        "    if name.startswith('contract_payment'):\n",
        "      _, _, contract_val, payment_val = parts[0], parts[1], parts[2], ' '.join(parts[3:])\n",
        "      new_col = f\"flag_contract_{contract_val.replace(' ', '_')}__payment_{payment_val.replace(' ', '_')}\"\n",
        "      df[new_col] = ((df['Contract'].astype(str) == contract_val) & (df['PaymentMethod'].astype(str) == payment_val)).astype(int)\n",
        "\n",
        "      return new_col\n",
        "\n",
        "  return None"
      ]
    },
    {
      "cell_type": "code",
      "execution_count": null,
      "metadata": {
        "id": "3odRdaUfF8d2"
      },
      "outputs": [],
      "source": []
    },
    {
      "cell_type": "code",
      "execution_count": 23,
      "metadata": {
        "id": "4Vja-0PKkVNe"
      },
      "outputs": [],
      "source": [
        "created_flags = []\n",
        "\n",
        "for name in selected_ohe_col:\n",
        "  flag = create_flag(X_new, name)\n",
        "\n",
        "  if flag:\n",
        "    created_flags.append(flag)\n",
        "\n",
        "\n",
        "X_new['flag_short_tenure'] = (X_new['tenure'] <= 3).astype(int)\n",
        "\n",
        "if 'flag_Contract_Month-to-month' in X_new.columns:\n",
        "  X_new['flag_short_tenure_month-month'] = (X_new['flag_short_tenure'] & X_new['flag_Contract_Month-to-month']).astype(int)\n",
        "  created_flags.append('flag_short_tenure_month')"
      ]
    },
    {
      "cell_type": "code",
      "execution_count": 24,
      "metadata": {
        "colab": {
          "base_uri": "https://localhost:8080/",
          "height": 295
        },
        "id": "8ZmrV0UUkVLX",
        "outputId": "8f450f0a-bf26-49b4-a7dc-51676bc0ad7d"
      },
      "outputs": [
        {
          "data": {
            "text/html": [
              "<div>\n",
              "<style scoped>\n",
              "    .dataframe tbody tr th:only-of-type {\n",
              "        vertical-align: middle;\n",
              "    }\n",
              "\n",
              "    .dataframe tbody tr th {\n",
              "        vertical-align: top;\n",
              "    }\n",
              "\n",
              "    .dataframe thead th {\n",
              "        text-align: right;\n",
              "    }\n",
              "</style>\n",
              "<table border=\"1\" class=\"dataframe\">\n",
              "  <thead>\n",
              "    <tr style=\"text-align: right;\">\n",
              "      <th></th>\n",
              "      <th>SeniorCitizen</th>\n",
              "      <th>Partner</th>\n",
              "      <th>Dependents</th>\n",
              "      <th>tenure</th>\n",
              "      <th>InternetService</th>\n",
              "      <th>Contract</th>\n",
              "      <th>PaperlessBilling</th>\n",
              "      <th>PaymentMethod</th>\n",
              "      <th>MonthlyCharges</th>\n",
              "      <th>Fibre_stream_pref</th>\n",
              "      <th>DSL_security_pref</th>\n",
              "      <th>has_phone</th>\n",
              "      <th>has_multipleline</th>\n",
              "      <th>tenure_bucket</th>\n",
              "      <th>avg_monthly_charge</th>\n",
              "      <th>total_addons</th>\n",
              "      <th>security_bins</th>\n",
              "      <th>streaming_bins</th>\n",
              "      <th>spend_per_addon</th>\n",
              "      <th>flag_InternetService__Fiber_optic</th>\n",
              "      <th>flag_Contract__Month-to-month</th>\n",
              "      <th>flag_PaymentMethod__Electronic_check</th>\n",
              "      <th>flag_tenure__bucket_0-3</th>\n",
              "      <th>flag_contract_Month-to-month__payment_Electronic_check</th>\n",
              "      <th>flag_short_tenure</th>\n",
              "    </tr>\n",
              "  </thead>\n",
              "  <tbody>\n",
              "    <tr>\n",
              "      <th>0</th>\n",
              "      <td>0</td>\n",
              "      <td>0</td>\n",
              "      <td>0</td>\n",
              "      <td>18.0</td>\n",
              "      <td>No</td>\n",
              "      <td>One year</td>\n",
              "      <td>0</td>\n",
              "      <td>Mailed check</td>\n",
              "      <td>20.10</td>\n",
              "      <td>0</td>\n",
              "      <td>0</td>\n",
              "      <td>1</td>\n",
              "      <td>0</td>\n",
              "      <td>12+</td>\n",
              "      <td>22.325000</td>\n",
              "      <td>0</td>\n",
              "      <td>0</td>\n",
              "      <td>0</td>\n",
              "      <td>20.100000</td>\n",
              "      <td>0</td>\n",
              "      <td>0</td>\n",
              "      <td>0</td>\n",
              "      <td>0</td>\n",
              "      <td>0</td>\n",
              "      <td>0</td>\n",
              "    </tr>\n",
              "    <tr>\n",
              "      <th>1</th>\n",
              "      <td>0</td>\n",
              "      <td>0</td>\n",
              "      <td>0</td>\n",
              "      <td>7.0</td>\n",
              "      <td>Fiber optic</td>\n",
              "      <td>Month-to-month</td>\n",
              "      <td>0</td>\n",
              "      <td>Electronic check</td>\n",
              "      <td>96.20</td>\n",
              "      <td>1</td>\n",
              "      <td>0</td>\n",
              "      <td>1</td>\n",
              "      <td>1</td>\n",
              "      <td>4-12</td>\n",
              "      <td>91.385714</td>\n",
              "      <td>2</td>\n",
              "      <td>0</td>\n",
              "      <td>2</td>\n",
              "      <td>32.066667</td>\n",
              "      <td>1</td>\n",
              "      <td>1</td>\n",
              "      <td>1</td>\n",
              "      <td>0</td>\n",
              "      <td>1</td>\n",
              "      <td>0</td>\n",
              "    </tr>\n",
              "    <tr>\n",
              "      <th>2</th>\n",
              "      <td>0</td>\n",
              "      <td>0</td>\n",
              "      <td>0</td>\n",
              "      <td>52.0</td>\n",
              "      <td>Fiber optic</td>\n",
              "      <td>Two year</td>\n",
              "      <td>1</td>\n",
              "      <td>Electronic check</td>\n",
              "      <td>109.30</td>\n",
              "      <td>1</td>\n",
              "      <td>0</td>\n",
              "      <td>1</td>\n",
              "      <td>1</td>\n",
              "      <td>12+</td>\n",
              "      <td>110.219231</td>\n",
              "      <td>5</td>\n",
              "      <td>3+</td>\n",
              "      <td>2</td>\n",
              "      <td>18.216667</td>\n",
              "      <td>1</td>\n",
              "      <td>0</td>\n",
              "      <td>1</td>\n",
              "      <td>0</td>\n",
              "      <td>0</td>\n",
              "      <td>0</td>\n",
              "    </tr>\n",
              "    <tr>\n",
              "      <th>3</th>\n",
              "      <td>0</td>\n",
              "      <td>1</td>\n",
              "      <td>1</td>\n",
              "      <td>46.0</td>\n",
              "      <td>No</td>\n",
              "      <td>Two year</td>\n",
              "      <td>1</td>\n",
              "      <td>Mailed check</td>\n",
              "      <td>19.95</td>\n",
              "      <td>0</td>\n",
              "      <td>0</td>\n",
              "      <td>1</td>\n",
              "      <td>0</td>\n",
              "      <td>12+</td>\n",
              "      <td>20.154348</td>\n",
              "      <td>0</td>\n",
              "      <td>0</td>\n",
              "      <td>0</td>\n",
              "      <td>19.950000</td>\n",
              "      <td>0</td>\n",
              "      <td>0</td>\n",
              "      <td>0</td>\n",
              "      <td>0</td>\n",
              "      <td>0</td>\n",
              "      <td>0</td>\n",
              "    </tr>\n",
              "    <tr>\n",
              "      <th>4</th>\n",
              "      <td>1</td>\n",
              "      <td>1</td>\n",
              "      <td>0</td>\n",
              "      <td>40.0</td>\n",
              "      <td>Fiber optic</td>\n",
              "      <td>Month-to-month</td>\n",
              "      <td>0</td>\n",
              "      <td>Electronic check</td>\n",
              "      <td>101.85</td>\n",
              "      <td>1</td>\n",
              "      <td>0</td>\n",
              "      <td>1</td>\n",
              "      <td>1</td>\n",
              "      <td>12+</td>\n",
              "      <td>102.157500</td>\n",
              "      <td>3</td>\n",
              "      <td>1</td>\n",
              "      <td>2</td>\n",
              "      <td>25.462500</td>\n",
              "      <td>1</td>\n",
              "      <td>1</td>\n",
              "      <td>1</td>\n",
              "      <td>0</td>\n",
              "      <td>1</td>\n",
              "      <td>0</td>\n",
              "    </tr>\n",
              "  </tbody>\n",
              "</table>\n",
              "</div>"
            ],
            "text/plain": [
              "   SeniorCitizen  Partner  Dependents  tenure InternetService        Contract  \\\n",
              "0              0        0           0    18.0              No        One year   \n",
              "1              0        0           0     7.0     Fiber optic  Month-to-month   \n",
              "2              0        0           0    52.0     Fiber optic        Two year   \n",
              "3              0        1           1    46.0              No        Two year   \n",
              "4              1        1           0    40.0     Fiber optic  Month-to-month   \n",
              "\n",
              "   PaperlessBilling     PaymentMethod  MonthlyCharges  Fibre_stream_pref  \\\n",
              "0                 0      Mailed check           20.10                  0   \n",
              "1                 0  Electronic check           96.20                  1   \n",
              "2                 1  Electronic check          109.30                  1   \n",
              "3                 1      Mailed check           19.95                  0   \n",
              "4                 0  Electronic check          101.85                  1   \n",
              "\n",
              "   DSL_security_pref  has_phone  has_multipleline tenure_bucket  \\\n",
              "0                  0          1                 0           12+   \n",
              "1                  0          1                 1          4-12   \n",
              "2                  0          1                 1           12+   \n",
              "3                  0          1                 0           12+   \n",
              "4                  0          1                 1           12+   \n",
              "\n",
              "   avg_monthly_charge  total_addons security_bins  streaming_bins  \\\n",
              "0           22.325000             0             0               0   \n",
              "1           91.385714             2             0               2   \n",
              "2          110.219231             5            3+               2   \n",
              "3           20.154348             0             0               0   \n",
              "4          102.157500             3             1               2   \n",
              "\n",
              "   spend_per_addon  flag_InternetService__Fiber_optic  \\\n",
              "0        20.100000                                  0   \n",
              "1        32.066667                                  1   \n",
              "2        18.216667                                  1   \n",
              "3        19.950000                                  0   \n",
              "4        25.462500                                  1   \n",
              "\n",
              "   flag_Contract__Month-to-month  flag_PaymentMethod__Electronic_check  \\\n",
              "0                              0                                     0   \n",
              "1                              1                                     1   \n",
              "2                              0                                     1   \n",
              "3                              0                                     0   \n",
              "4                              1                                     1   \n",
              "\n",
              "   flag_tenure__bucket_0-3  \\\n",
              "0                        0   \n",
              "1                        0   \n",
              "2                        0   \n",
              "3                        0   \n",
              "4                        0   \n",
              "\n",
              "   flag_contract_Month-to-month__payment_Electronic_check  flag_short_tenure  \n",
              "0                                                  0                       0  \n",
              "1                                                  1                       0  \n",
              "2                                                  0                       0  \n",
              "3                                                  0                       0  \n",
              "4                                                  1                       0  "
            ]
          },
          "execution_count": 24,
          "metadata": {},
          "output_type": "execute_result"
        }
      ],
      "source": [
        "X_new = X_new.drop(columns=['new_customers', 'TotalCharges', 'contract_payment'], axis=1)\n",
        "X_new.head()"
      ]
    },
    {
      "cell_type": "code",
      "execution_count": null,
      "metadata": {
        "id": "qaQMwZ12HF-h"
      },
      "outputs": [],
      "source": []
    },
    {
      "cell_type": "code",
      "execution_count": 25,
      "metadata": {
        "id": "Il_VTAlNrhim"
      },
      "outputs": [],
      "source": [
        "num_cols_new = X_tr_new.select_dtypes(include='number').columns.tolist()\n",
        "cat_cols_new = X_tr_new.select_dtypes(exclude='number').columns.tolist()"
      ]
    },
    {
      "cell_type": "code",
      "execution_count": 26,
      "metadata": {
        "colab": {
          "base_uri": "https://localhost:8080/"
        },
        "id": "0dRDTM_7GPsw",
        "outputId": "22a3b807-8211-4a15-e8f0-2a37668b0349"
      },
      "outputs": [
        {
          "name": "stdout",
          "output_type": "stream",
          "text": [
            "Numeric col - SeniorCitizen ROC-AUC: 0.562\n",
            "Numeric col - Partner ROC-AUC: 0.425\n",
            "Numeric col - Dependents ROC-AUC: 0.421\n",
            "Numeric col - tenure ROC-AUC: 0.268\n",
            "Numeric col - PaperlessBilling ROC-AUC: 0.610\n",
            "Numeric col - MonthlyCharges ROC-AUC: 0.632\n",
            "Numeric col - TotalCharges ROC-AUC: 0.358\n",
            "Numeric col - Fibre_stream_pref ROC-AUC: 0.618\n",
            "Numeric col - DSL_security_pref ROC-AUC: 0.409\n",
            "Numeric col - has_phone ROC-AUC: 0.506\n",
            "Numeric col - has_multipleline ROC-AUC: 0.528\n",
            "Numeric col - avg_monthly_charge ROC-AUC: 0.630\n",
            "Numeric col - total_addons ROC-AUC: 0.472\n",
            "Numeric col - streaming_bins ROC-AUC: 0.553\n",
            "Numeric col - new_customers ROC-AUC: 0.615\n",
            "Numeric col - spend_per_addon ROC-AUC: 0.715\n"
          ]
        }
      ],
      "source": [
        "for col in num_cols_new:\n",
        "  auc = roc_auc_score(y_tr_new, X_tr_new[col])\n",
        "  print(f\"Numeric col - {col} ROC-AUC: {auc:.3f}\")"
      ]
    },
    {
      "cell_type": "code",
      "execution_count": null,
      "metadata": {
        "id": "FKt8MKE9P1h4"
      },
      "outputs": [],
      "source": []
    },
    {
      "cell_type": "code",
      "execution_count": 29,
      "metadata": {
        "id": "Wx24XviBnedZ"
      },
      "outputs": [],
      "source": [
        "smote = SMOTE(random_state=42)\n",
        "preprocess_new = ColumnTransformer([\n",
        "    ('num', 'passthrough', num_cols_new)\n",
        "])\n",
        "\n",
        "rf = RandomForestClassifier(random_state=42, n_jobs=-1, class_weight='balanced')\n",
        "\n",
        "pipe_new = Imbpipe([\n",
        "    ('preprocess', preprocess_new),\n",
        "    ('smote', smote),\n",
        "    ('rf', rf)\n",
        "])\n",
        "\n",
        "cv = StratifiedKFold(n_splits=5, shuffle=True, random_state=42)"
      ]
    },
    {
      "cell_type": "code",
      "execution_count": null,
      "metadata": {
        "id": "OgtnC-jCF3l3"
      },
      "outputs": [],
      "source": []
    },
    {
      "cell_type": "code",
      "execution_count": 30,
      "metadata": {
        "colab": {
          "base_uri": "https://localhost:8080/",
          "height": 1000
        },
        "id": "KO2oF6Iws_GM",
        "outputId": "139ec226-583f-492b-c749-fa173077ac94"
      },
      "outputs": [
        {
          "name": "stdout",
          "output_type": "stream",
          "text": [
            "[learning_curve] Training set sizes: [ 394 1281 2168 3055 3943]\n"
          ]
        },
        {
          "name": "stderr",
          "output_type": "stream",
          "text": [
            "[Parallel(n_jobs=1)]: Done  25 out of  25 | elapsed:   11.4s finished\n"
          ]
        },
        {
          "data": {
            "image/png": "[encoded data removed]",
            "text/plain": [
              "<Figure size 640x480 with 1 Axes>"
            ]
          },
          "metadata": {},
          "output_type": "display_data"
        },
        {
          "name": "stdout",
          "output_type": "stream",
          "text": [
            "[learning_curve] Training set sizes: [ 394 1281 2168 3055 3943]\n"
          ]
        },
        {
          "name": "stderr",
          "output_type": "stream",
          "text": [
            "[Parallel(n_jobs=1)]: Done  25 out of  25 | elapsed:    9.6s finished\n"
          ]
        },
        {
          "data": {
            "image/png": "[encoded data removed]",
            "text/plain": [
              "<Figure size 640x480 with 1 Axes>"
            ]
          },
          "metadata": {},
          "output_type": "display_data"
        },
        {
          "name": "stdout",
          "output_type": "stream",
          "text": [
            "[learning_curve] Training set sizes: [ 394 1281 2168 3055 3943]\n"
          ]
        },
        {
          "name": "stderr",
          "output_type": "stream",
          "text": [
            "[Parallel(n_jobs=1)]: Done  25 out of  25 | elapsed:    9.1s finished\n"
          ]
        },
        {
          "data": {
            "image/png": "[encoded data removed]",
            "text/plain": [
              "<Figure size 640x480 with 1 Axes>"
            ]
          },
          "metadata": {},
          "output_type": "display_data"
        }
      ],
      "source": [
        "\n",
        "for scoring in ['f1', 'average_precision', 'roc_auc']:\n",
        "  train_sizes, train_scores, val_scores = learning_curve(pipe_new, X_tr_new, y_tr_new,\n",
        "                                                       train_sizes=np.linspace(0.1, 1.0, 5),\n",
        "                                                       scoring=scoring, n_jobs=1,\n",
        "                                                       cv=cv, verbose=1)\n",
        "  train_mean, val_mean = np.mean(train_scores, axis=1), np.mean(val_scores, axis=1)\n",
        "\n",
        "  plt.plot(train_sizes, train_mean, label=f'train {scoring}')\n",
        "  plt.plot(train_sizes, val_mean, label=f'validation {scoring}')\n",
        "\n",
        "  plt.fill_between(train_sizes, train_mean - np.std(train_scores, 1), train_mean + np.std(train_scores, 1), alpha=0.3)\n",
        "  plt.fill_between(train_sizes, val_mean - np.std(val_scores, 1), val_mean + np.std(val_scores, 1), alpha=0.3)\n",
        "\n",
        "  plt.xlabel(\"Training sample\")\n",
        "  plt.ylabel(scoring)\n",
        "  plt.legend()\n",
        "  plt.title(f\"Leaning curve with scoring {scoring}\")\n",
        "  plt.grid(True)\n",
        "  plt.show()"
      ]
    },
    {
      "cell_type": "code",
      "execution_count": 31,
      "metadata": {
        "colab": {
          "base_uri": "https://localhost:8080/"
        },
        "id": "d7S7GprWH671",
        "outputId": "fccf10ca-43f2-4bae-a660-2f081f7ff7b2"
      },
      "outputs": [
        {
          "name": "stdout",
          "output_type": "stream",
          "text": [
            "RF CV AP: 0.5942737688425875 +- 0.021863524486825017\n"
          ]
        }
      ],
      "source": [
        "from sklearn.model_selection import cross_val_score\n",
        "\n",
        "scores = cross_val_score(pipe_new, X_tr_new, y_tr_new, cv=cv,\n",
        "                         scoring='average_precision',\n",
        "                         n_jobs=-1)\n",
        "print(\"RF CV AP:\", scores.mean(), \"+-\", scores.std())"
      ]
    },
    {
      "cell_type": "code",
      "execution_count": null,
      "metadata": {
        "id": "Aw9Zskg4U4tO"
      },
      "outputs": [],
      "source": []
    },
    {
      "cell_type": "markdown",
      "metadata": {},
      "source": [
        "When taking roc-auc score on each features of numeric and categorical, there are reduntant features like `SeniorCitizen`, `Partner` and `avg_monthly_charge`, `new_customers`, `spend_per_addon` has more predictive power. In categorical features, `Electronic check` interaction feature, `Fibre Optic` interaction feature have more predictive power. As from roc_auc score it can't be finalized as these are predictive but may have useful predictive power. When taking the interaction features that seems predictive is taken with use of OHE to check for improvements."
      ]
    },
    {
      "cell_type": "code",
      "execution_count": null,
      "metadata": {},
      "outputs": [],
      "source": []
    },
    {
      "cell_type": "markdown",
      "metadata": {
        "id": "1H55hQAlU5LO"
      },
      "source": [
        "# LightGBM"
      ]
    },
    {
      "cell_type": "code",
      "execution_count": null,
      "metadata": {
        "id": "1ZI1UoAZYIvG"
      },
      "outputs": [],
      "source": []
    },
    {
      "cell_type": "code",
      "execution_count": 33,
      "metadata": {
        "id": "kWTU6tjgVUuT"
      },
      "outputs": [],
      "source": [
        "import lightgbm as lgb\n",
        "from lightgbm import early_stopping, log_evaluation\n",
        "from sklearn.metrics import precision_recall_curve\n",
        "from sklearn.model_selection import train_test_split\n",
        "from sklearn.metrics import (\n",
        "    classification_report, average_precision_score,\n",
        "    f1_score, roc_auc_score, confusion_matrix\n",
        ")\n",
        "import shap\n",
        "import warnings\n",
        "warnings.filterwarnings(\"ignore\")"
      ]
    },
    {
      "cell_type": "code",
      "execution_count": null,
      "metadata": {},
      "outputs": [],
      "source": [
        "X_new = X_new.drop(columns='avg_monthly_charge', axis=1)"
      ]
    },
    {
      "cell_type": "code",
      "execution_count": null,
      "metadata": {},
      "outputs": [],
      "source": []
    },
    {
      "cell_type": "code",
      "execution_count": 85,
      "metadata": {
        "id": "1vKYfUPyYhp9"
      },
      "outputs": [],
      "source": [
        "num_cols_lgb = X_new.select_dtypes(include='number').columns.tolist()\n",
        "cat_cols_lgb = X_new.select_dtypes(exclude='number').columns.tolist()"
      ]
    },
    {
      "cell_type": "code",
      "execution_count": null,
      "metadata": {
        "id": "m61XUinClHPz"
      },
      "outputs": [],
      "source": []
    },
    {
      "cell_type": "code",
      "execution_count": 86,
      "metadata": {
        "colab": {
          "base_uri": "https://localhost:8080/"
        },
        "id": "2TvovFRkYe_S",
        "outputId": "58453c03-e7fa-4322-8a0b-021a9d7e1648"
      },
      "outputs": [
        {
          "data": {
            "text/plain": [
              "((4929, 21), (1057, 21), (1057, 21), (4929,), (1057,), (1057,))"
            ]
          },
          "execution_count": 86,
          "metadata": {},
          "output_type": "execute_result"
        }
      ],
      "source": [
        "test_size=0.15\n",
        "val_ratio = test_size / (1-test_size)\n",
        "\n",
        "X_temp, X_test_new, y_temp, y_test_new = train_test_split(X_new, y, test_size=test_size,\n",
        "                                                          stratify=y, random_state=42)\n",
        "\n",
        "X_tr_new, X_val_new, y_tr_new, y_val_new = train_test_split(X_temp, y_temp,\n",
        "                                                            test_size=val_ratio,\n",
        "                                                            stratify=y_temp,\n",
        "                                                            random_state=42)\n",
        "\n",
        "X_tr_new.shape, X_val_new.shape, X_test_new.shape,  y_tr_new.shape, y_val_new.shape, y_test_new.shape"
      ]
    },
    {
      "cell_type": "code",
      "execution_count": null,
      "metadata": {
        "id": "XLNmLqW9dhXA"
      },
      "outputs": [],
      "source": []
    },
    {
      "cell_type": "code",
      "execution_count": null,
      "metadata": {
        "id": "LprrIDFN69O3"
      },
      "outputs": [],
      "source": []
    },
    {
      "cell_type": "code",
      "execution_count": 87,
      "metadata": {
        "id": "iMNsZtIgdhTl"
      },
      "outputs": [],
      "source": [
        "skf = StratifiedKFold(n_splits=5, shuffle=True, random_state=42)\n",
        "\n",
        "oof_preds = np.zeros(len(X_new))\n",
        "oof_per_folds = []\n",
        "\n",
        "models = []\n",
        "\n",
        "fold_metrics = []\n",
        "best_iters_lgb = []\n",
        "\n",
        "\n",
        "scale_pos_weight = (y == 0).sum() / (y == 1).sum()\n",
        "\n",
        "base_params = {\n",
        "    \"boosting_type\": \"gbdt\",\n",
        "    \"objective\": \"binary\",\n",
        "    \"metric\": 'auc',\n",
        "    \"learning_rate\": 0.05,\n",
        "    \"num_leaves\": 31,\n",
        "    \"min_child_samples\": 30,\n",
        "    \"subsample\": 0.8,\n",
        "    \"colsample_bytree\": 0.8,\n",
        "    \"reg_alpha\": 0.0,\n",
        "    \"reg_lambda\": 1.0,\n",
        "    \"scale_pos_weight\": scale_pos_weight\n",
        "}"
      ]
    },
    {
      "cell_type": "code",
      "execution_count": null,
      "metadata": {
        "id": "DS-s0SmS7Itj"
      },
      "outputs": [],
      "source": []
    },
    {
      "cell_type": "code",
      "execution_count": null,
      "metadata": {
        "id": "FvTc957B7LcI"
      },
      "outputs": [],
      "source": []
    },
    {
      "cell_type": "code",
      "execution_count": 88,
      "metadata": {
        "colab": {
          "base_uri": "https://localhost:8080/"
        },
        "id": "wsnzz-dneurC",
        "outputId": "8c26eb12-9d77-481d-ca91-d66f9f03a1f0"
      },
      "outputs": [
        {
          "name": "stdout",
          "output_type": "stream",
          "text": [
            "Fold 1\n",
            "[LightGBM] [Info] Number of positive: 1495, number of negative: 4139\n",
            "[LightGBM] [Info] Auto-choosing col-wise multi-threading, the overhead of testing was 0.000925 seconds.\n",
            "You can set `force_col_wise=true` to remove the overhead.\n",
            "[LightGBM] [Info] Total Bins 897\n",
            "[LightGBM] [Info] Number of data points in the train set: 5634, number of used features: 21\n",
            "[LightGBM] [Info] [binary:BoostFromScore]: pavg=0.265353 -> initscore=-1.018328\n",
            "[LightGBM] [Info] Start training from score -1.018328\n",
            "Training until validation scores don't improve for 100 rounds\n",
            "Early stopping, best iteration is:\n",
            "[53]\tvalid_0's auc: 0.845571\n",
            "Fold 1, AUC: 0.8456, AP: 0.6574\n",
            "Fold 2\n",
            "[LightGBM] [Info] Number of positive: 1495, number of negative: 4139\n",
            "[LightGBM] [Info] Auto-choosing row-wise multi-threading, the overhead of testing was 0.000326 seconds.\n",
            "You can set `force_row_wise=true` to remove the overhead.\n",
            "And if memory is not enough, you can set `force_col_wise=true`.\n",
            "[LightGBM] [Info] Total Bins 897\n",
            "[LightGBM] [Info] Number of data points in the train set: 5634, number of used features: 21\n",
            "[LightGBM] [Info] [binary:BoostFromScore]: pavg=0.265353 -> initscore=-1.018328\n",
            "[LightGBM] [Info] Start training from score -1.018328\n",
            "Training until validation scores don't improve for 100 rounds\n",
            "Early stopping, best iteration is:\n",
            "[42]\tvalid_0's auc: 0.845806\n",
            "Fold 2, AUC: 0.8458, AP: 0.6623\n",
            "Fold 3\n",
            "[LightGBM] [Info] Number of positive: 1495, number of negative: 4139\n",
            "[LightGBM] [Info] Auto-choosing row-wise multi-threading, the overhead of testing was 0.000373 seconds.\n",
            "You can set `force_row_wise=true` to remove the overhead.\n",
            "And if memory is not enough, you can set `force_col_wise=true`.\n",
            "[LightGBM] [Info] Total Bins 897\n",
            "[LightGBM] [Info] Number of data points in the train set: 5634, number of used features: 21\n",
            "[LightGBM] [Info] [binary:BoostFromScore]: pavg=0.265353 -> initscore=-1.018328\n",
            "[LightGBM] [Info] Start training from score -1.018328\n",
            "Training until validation scores don't improve for 100 rounds\n",
            "Early stopping, best iteration is:\n",
            "[25]\tvalid_0's auc: 0.832292\n",
            "Fold 3, AUC: 0.8323, AP: 0.6152\n",
            "Fold 4\n",
            "[LightGBM] [Info] Number of positive: 1496, number of negative: 4139\n",
            "[LightGBM] [Info] Auto-choosing row-wise multi-threading, the overhead of testing was 0.000350 seconds.\n",
            "You can set `force_row_wise=true` to remove the overhead.\n",
            "And if memory is not enough, you can set `force_col_wise=true`.\n",
            "[LightGBM] [Info] Total Bins 897\n",
            "[LightGBM] [Info] Number of data points in the train set: 5635, number of used features: 21\n",
            "[LightGBM] [Info] [binary:BoostFromScore]: pavg=0.265484 -> initscore=-1.017659\n",
            "[LightGBM] [Info] Start training from score -1.017659\n",
            "Training until validation scores don't improve for 100 rounds\n",
            "Early stopping, best iteration is:\n",
            "[77]\tvalid_0's auc: 0.842537\n",
            "Fold 4, AUC: 0.8425, AP: 0.6532\n",
            "Fold 5\n",
            "[LightGBM] [Info] Number of positive: 1495, number of negative: 4140\n",
            "[LightGBM] [Info] Auto-choosing col-wise multi-threading, the overhead of testing was 0.000642 seconds.\n",
            "You can set `force_col_wise=true` to remove the overhead.\n",
            "[LightGBM] [Info] Total Bins 897\n",
            "[LightGBM] [Info] Number of data points in the train set: 5635, number of used features: 21\n",
            "[LightGBM] [Info] [binary:BoostFromScore]: pavg=0.265306 -> initscore=-1.018570\n",
            "[LightGBM] [Info] Start training from score -1.018570\n",
            "Training until validation scores don't improve for 100 rounds\n",
            "Early stopping, best iteration is:\n",
            "[75]\tvalid_0's auc: 0.862431\n",
            "Fold 5, AUC: 0.8624, AP: 0.6943\n"
          ]
        }
      ],
      "source": [
        "for fold, (tr_idx, vl_idx) in enumerate(skf.split(X_new, y)):\n",
        "\n",
        "  print(f\"Fold {fold+1}\")\n",
        "\n",
        "  X_tr, X_val = X_new.iloc[tr_idx], X_new.iloc[vl_idx]\n",
        "  y_tr, y_val = y.iloc[tr_idx], y.iloc[vl_idx]\n",
        "\n",
        "  lgb_classif = lgb.LGBMClassifier(**base_params, n_estimators=10000, random_state=42)\n",
        "\n",
        "  lgb_classif.fit(\n",
        "      X_tr, y_tr,\n",
        "      eval_set=[(X_val, y_val)],\n",
        "      eval_metric='auc',\n",
        "      categorical_feature=cat_cols_lgb,\n",
        "      callbacks=[early_stopping(stopping_rounds=100), log_evaluation(0)]\n",
        "  )\n",
        "\n",
        "  val_probs = lgb_classif.predict_proba(X_val, num_iteration=lgb_classif.best_iteration_)[:, 1]\n",
        "  oof_preds[vl_idx] = val_probs\n",
        "  oof_per_folds.append(val_probs)\n",
        "  models.append(lgb_classif)\n",
        "  best_iters_lgb.append(lgb_classif.best_iteration_)\n",
        "\n",
        "  val_auc = roc_auc_score(y_val, val_probs)\n",
        "  val_ap = average_precision_score(y_val, val_probs)\n",
        "\n",
        "  print(f\"Fold {fold+1}, AUC: {val_auc:.4f}, AP: {val_ap:.4f}\")\n",
        "  fold_metrics.append({\"fold\": fold + 1, \"auc\": val_auc, \"AP\": val_ap})\n"
      ]
    },
    {
      "cell_type": "code",
      "execution_count": null,
      "metadata": {
        "id": "RWyjqhejhEyw"
      },
      "outputs": [],
      "source": []
    },
    {
      "cell_type": "code",
      "execution_count": 89,
      "metadata": {
        "colab": {
          "base_uri": "https://localhost:8080/"
        },
        "id": "p07wQc1Rj2Dk",
        "outputId": "5483dff1-e058-4b2f-c41c-802aecdb9d7d"
      },
      "outputs": [
        {
          "name": "stdout",
          "output_type": "stream",
          "text": [
            "=======OOF Evaluation=======\n",
            "OOF AUC: 0.8424\n",
            "OOF AP: 0.6455\n"
          ]
        }
      ],
      "source": [
        "print(\"=======OOF Evaluation=======\")\n",
        "oof_auc = roc_auc_score(y, oof_preds)\n",
        "oof_ap = average_precision_score(y, oof_preds)\n",
        "\n",
        "print(f\"OOF AUC: {oof_auc:.4f}\")\n",
        "print(f\"OOF AP: {oof_ap:.4f}\")"
      ]
    },
    {
      "cell_type": "code",
      "execution_count": null,
      "metadata": {
        "id": "sOXmmMucq9wk"
      },
      "outputs": [],
      "source": []
    },
    {
      "cell_type": "markdown",
      "metadata": {
        "id": "GEeqYZR6q9_L"
      },
      "source": [
        "## PR-Curve and Threshold tuning"
      ]
    },
    {
      "cell_type": "code",
      "execution_count": 90,
      "metadata": {
        "colab": {
          "base_uri": "https://localhost:8080/"
        },
        "id": "caB4Lee-asZ9",
        "outputId": "51d37831-4c52-440c-f8e7-1350405087ac"
      },
      "outputs": [
        {
          "name": "stdout",
          "output_type": "stream",
          "text": [
            "Best threshold for LGBM: 0.521052618626263\n"
          ]
        }
      ],
      "source": [
        "prec_lg, rec_lg, thresh_lg = precision_recall_curve(y, oof_preds)\n",
        "\n",
        "f1_lg = 2 * prec_lg[:-1] * rec_lg[:-1] / (prec_lg[:-1] + rec_lg[:-1] + 1e-6)\n",
        "best_idx = np.nanargmax(f1_lg)\n",
        "best_thresh_lg = thresh_lg[best_idx]\n",
        "\n",
        "print(\"Best threshold for LGBM:\", best_thresh_lg)"
      ]
    },
    {
      "cell_type": "code",
      "execution_count": null,
      "metadata": {
        "id": "nVF6bdU5p21X"
      },
      "outputs": [],
      "source": []
    },
    {
      "cell_type": "markdown",
      "metadata": {
        "id": "nrVhtLcYp372"
      },
      "source": [
        "## Precision-Recall curve"
      ]
    },
    {
      "cell_type": "code",
      "execution_count": 91,
      "metadata": {
        "colab": {
          "base_uri": "https://localhost:8080/",
          "height": 564
        },
        "id": "iiovYUgUp8bR",
        "outputId": "0ab69da0-3615-485e-fc8e-3392fa3183b1"
      },
      "outputs": [
        {
          "data": {
            "image/png": "[encoded data removed]",
            "text/plain": [
              "<Figure size 800x600 with 1 Axes>"
            ]
          },
          "metadata": {},
          "output_type": "display_data"
        }
      ],
      "source": [
        "plt.figure(figsize=(8,6))\n",
        "plt.plot(prec_lg, rec_lg)\n",
        "plt.xlabel(\"Precision\")\n",
        "plt.ylabel(\"Recall\")\n",
        "plt.title(\"Precision-Recall Curve (LGBM)\")\n",
        "plt.grid(True)\n",
        "plt.show()"
      ]
    },
    {
      "cell_type": "code",
      "execution_count": null,
      "metadata": {
        "id": "_uqC8F5Kp8Xw"
      },
      "outputs": [],
      "source": []
    },
    {
      "cell_type": "code",
      "execution_count": null,
      "metadata": {
        "id": "0aX5CaXIrGv0"
      },
      "outputs": [],
      "source": []
    },
    {
      "cell_type": "markdown",
      "metadata": {
        "id": "fPCnv8zgrHAg"
      },
      "source": [
        "## Classification Report and Confusion metrics"
      ]
    },
    {
      "cell_type": "code",
      "execution_count": 92,
      "metadata": {
        "colab": {
          "base_uri": "https://localhost:8080/"
        },
        "id": "pImQWsf5WJae",
        "outputId": "dfca5d6d-7613-4d76-a363-03c731cc6f1a"
      },
      "outputs": [
        {
          "name": "stdout",
          "output_type": "stream",
          "text": [
            "Classification Report:\n",
            "\n",
            "               precision    recall  f1-score   support\n",
            "\n",
            "           0       0.93      0.80      0.86       777\n",
            "           1       0.59      0.82      0.69       280\n",
            "\n",
            "    accuracy                           0.80      1057\n",
            "   macro avg       0.76      0.81      0.77      1057\n",
            "weighted avg       0.84      0.80      0.81      1057\n",
            "\n",
            "\n",
            "ROC-AUC: 0.890391156462585 AP: 0.7149878208345358\n"
          ]
        }
      ],
      "source": [
        "preds = np.mean([m.predict_proba(X_test_new)[:,1]  for m in models], axis=0)\n",
        "y_preds_lg = (preds >= best_thresh_lg).astype(int)\n",
        "\n",
        "print(\"Classification Report:\\n\\n\", classification_report(y_test_new, y_preds_lg))\n",
        "print(\"\\nROC-AUC:\", roc_auc_score(y_test_new, preds), \"AP:\", average_precision_score(y_test_new, preds))"
      ]
    },
    {
      "cell_type": "code",
      "execution_count": 93,
      "metadata": {
        "colab": {
          "base_uri": "https://localhost:8080/"
        },
        "id": "jsl6dBabrGAd",
        "outputId": "bc26caa1-fa0c-4521-f7e0-415119d7a6ef"
      },
      "outputs": [
        {
          "name": "stdout",
          "output_type": "stream",
          "text": [
            "Confusion Matrix:\n",
            " [[618 159]\n",
            " [ 50 230]]\n"
          ]
        }
      ],
      "source": [
        "print(\"Confusion Matrix:\\n\", confusion_matrix(y_test_new, y_preds_lg))"
      ]
    },
    {
      "cell_type": "code",
      "execution_count": null,
      "metadata": {
        "id": "AFZB7KsDHu7M"
      },
      "outputs": [],
      "source": []
    },
    {
      "cell_type": "markdown",
      "metadata": {
        "id": "V0Xou7tmHvN3"
      },
      "source": [
        "## Calibrated"
      ]
    },
    {
      "cell_type": "code",
      "execution_count": null,
      "metadata": {
        "id": "WwyLAiC1NlfB"
      },
      "outputs": [],
      "source": []
    },
    {
      "cell_type": "code",
      "execution_count": 94,
      "metadata": {
        "colab": {
          "base_uri": "https://localhost:8080/"
        },
        "id": "6JIZwK94lUMe",
        "outputId": "bb68d3c1-c913-40db-ef12-00f06913cd69"
      },
      "outputs": [
        {
          "name": "stdout",
          "output_type": "stream",
          "text": [
            "[LightGBM] [Info] Number of positive: 1047, number of negative: 2896\n",
            "[LightGBM] [Info] Auto-choosing row-wise multi-threading, the overhead of testing was 0.000485 seconds.\n",
            "You can set `force_row_wise=true` to remove the overhead.\n",
            "And if memory is not enough, you can set `force_col_wise=true`.\n",
            "[LightGBM] [Info] Total Bins 897\n",
            "[LightGBM] [Info] Number of data points in the train set: 3943, number of used features: 21\n",
            "[LightGBM] [Info] [binary:BoostFromScore]: pavg=0.265534 -> initscore=-1.017402\n",
            "[LightGBM] [Info] Start training from score -1.017402\n",
            "[LightGBM] [Info] Number of positive: 1046, number of negative: 2897\n",
            "[LightGBM] [Info] Auto-choosing row-wise multi-threading, the overhead of testing was 0.000216 seconds.\n",
            "You can set `force_row_wise=true` to remove the overhead.\n",
            "And if memory is not enough, you can set `force_col_wise=true`.\n",
            "[LightGBM] [Info] Total Bins 897\n",
            "[LightGBM] [Info] Number of data points in the train set: 3943, number of used features: 21\n",
            "[LightGBM] [Info] [binary:BoostFromScore]: pavg=0.265280 -> initscore=-1.018702\n",
            "[LightGBM] [Info] Start training from score -1.018702\n",
            "[LightGBM] [Info] Number of positive: 1046, number of negative: 2897\n",
            "[LightGBM] [Info] Auto-choosing row-wise multi-threading, the overhead of testing was 0.000243 seconds.\n",
            "You can set `force_row_wise=true` to remove the overhead.\n",
            "And if memory is not enough, you can set `force_col_wise=true`.\n",
            "[LightGBM] [Info] Total Bins 897\n",
            "[LightGBM] [Info] Number of data points in the train set: 3943, number of used features: 21\n",
            "[LightGBM] [Info] [binary:BoostFromScore]: pavg=0.265280 -> initscore=-1.018702\n",
            "[LightGBM] [Info] Start training from score -1.018702\n",
            "[LightGBM] [Info] Number of positive: 1046, number of negative: 2897\n",
            "[LightGBM] [Info] Auto-choosing row-wise multi-threading, the overhead of testing was 0.000372 seconds.\n",
            "You can set `force_row_wise=true` to remove the overhead.\n",
            "And if memory is not enough, you can set `force_col_wise=true`.\n",
            "[LightGBM] [Info] Total Bins 897\n",
            "[LightGBM] [Info] Number of data points in the train set: 3943, number of used features: 21\n",
            "[LightGBM] [Info] [binary:BoostFromScore]: pavg=0.265280 -> initscore=-1.018702\n",
            "[LightGBM] [Info] Start training from score -1.018702\n",
            "[LightGBM] [Info] Number of positive: 1047, number of negative: 2897\n",
            "[LightGBM] [Info] Auto-choosing row-wise multi-threading, the overhead of testing was 0.000272 seconds.\n",
            "You can set `force_row_wise=true` to remove the overhead.\n",
            "And if memory is not enough, you can set `force_col_wise=true`.\n",
            "[LightGBM] [Info] Total Bins 897\n",
            "[LightGBM] [Info] Number of data points in the train set: 3944, number of used features: 21\n",
            "[LightGBM] [Info] [binary:BoostFromScore]: pavg=0.265467 -> initscore=-1.017747\n",
            "[LightGBM] [Info] Start training from score -1.017747\n",
            "Brier Score: 0.13476677294779268\n"
          ]
        }
      ],
      "source": [
        "from sklearn.calibration import  CalibratedClassifierCV, calibration_curve\n",
        "from sklearn.metrics import brier_score_loss\n",
        "\n",
        "final_est_lgb = lgb.LGBMClassifier(**base_params, n_estimators=int(np.mean(best_iters_lgb)))\n",
        "cal = CalibratedClassifierCV(final_est_lgb, cv=skf, method='isotonic')\n",
        "cal.fit(X_tr_new, y_tr_new)\n",
        "cal_val_probs = cal.predict_proba(X_val_new)[:, 1]\n",
        "\n",
        "print(\"Brier Score:\", brier_score_loss(y_val_new, cal_val_probs))"
      ]
    },
    {
      "cell_type": "code",
      "execution_count": 95,
      "metadata": {
        "id": "_Jx9oEJwNuct"
      },
      "outputs": [],
      "source": [
        "y_prob_uncal = models[-1].predict_proba(X_val_new)[:, 1]"
      ]
    },
    {
      "cell_type": "code",
      "execution_count": 96,
      "metadata": {
        "colab": {
          "base_uri": "https://localhost:8080/",
          "height": 472
        },
        "id": "BmP21nu6rpb4",
        "outputId": "e7ec6c08-2e7f-4495-f0a0-a75a745646a1"
      },
      "outputs": [
        {
          "data": {
            "image/png": "[encoded data removed]",
            "text/plain": [
              "<Figure size 640x480 with 1 Axes>"
            ]
          },
          "metadata": {},
          "output_type": "display_data"
        }
      ],
      "source": [
        "for prob, label in [(y_prob_uncal, \"Uncalibrated\"), (cal_val_probs, \"Calibrated\")]:\n",
        "  pred, true = calibration_curve(y_val_new, prob, n_bins=10)\n",
        "\n",
        "  plt.plot(pred, true, marker='o', label=label)\n",
        "\n",
        "plt.plot([0,1], [0,1], linestyle='--', color='black')\n",
        "plt.xlabel(\"Predicted probability\")\n",
        "plt.ylabel(\"True probability\")\n",
        "plt.title(\"Calibration Curves\")\n",
        "plt.grid(True)\n",
        "plt.legend()\n",
        "plt.show()"
      ]
    },
    {
      "cell_type": "code",
      "execution_count": null,
      "metadata": {
        "id": "zp6iiTAQKxce"
      },
      "outputs": [],
      "source": []
    },
    {
      "cell_type": "code",
      "execution_count": null,
      "metadata": {
        "id": "d8FEst2RKxZH"
      },
      "outputs": [],
      "source": []
    },
    {
      "cell_type": "code",
      "execution_count": null,
      "metadata": {
        "id": "MkQ5URS1KxW7"
      },
      "outputs": [],
      "source": []
    },
    {
      "cell_type": "markdown",
      "metadata": {
        "id": "XSynFCinlUeq"
      },
      "source": [
        "## SHAP Explainer"
      ]
    },
    {
      "cell_type": "code",
      "execution_count": 97,
      "metadata": {
        "colab": {
          "base_uri": "https://localhost:8080/",
          "height": 607
        },
        "id": "kuXFiqWjWnRg",
        "outputId": "a96cc9b4-384a-4647-b6dd-fce81f31fe32"
      },
      "outputs": [
        {
          "data": {
            "image/png": "[encoded data removed]",
            "text/plain": [
              "<Figure size 800x600 with 1 Axes>"
            ]
          },
          "metadata": {},
          "output_type": "display_data"
        }
      ],
      "source": [
        "explainer =shap.TreeExplainer(models[-1])\n",
        "sample_X = X_new.sample(2000, random_state=42)\n",
        "\n",
        "shap_vals = explainer.shap_values(sample_X)\n",
        "\n",
        "shap.summary_plot(shap_vals, sample_X, plot_type=\"bar\", plot_size=(8,6))"
      ]
    },
    {
      "cell_type": "code",
      "execution_count": null,
      "metadata": {
        "id": "fgAfC3QIlzSg"
      },
      "outputs": [],
      "source": []
    },
    {
      "cell_type": "code",
      "execution_count": null,
      "metadata": {
        "id": "uGcvxiQwa3BL"
      },
      "outputs": [],
      "source": []
    },
    {
      "cell_type": "code",
      "execution_count": null,
      "metadata": {
        "id": "AidqWHtqa2-3"
      },
      "outputs": [],
      "source": []
    },
    {
      "cell_type": "markdown",
      "metadata": {
        "id": "D1Z2XuAsmRB9"
      },
      "source": [
        "## OPTUNA\n",
        "\n",
        "Hyperparameter tuning strategy."
      ]
    },
    {
      "cell_type": "code",
      "execution_count": 31,
      "metadata": {
        "id": "CLFgnXtBmIW1"
      },
      "outputs": [],
      "source": [
        "import optuna\n",
        "from sklearn.model_selection import cross_val_score\n",
        "\n",
        "def objective(trial):\n",
        "\n",
        "  param = {\n",
        "      \"objective\": \"binary\",\n",
        "      \"boosting_type\": \"gbdt\",\n",
        "      \"n_jobs\": -1,\n",
        "      \"learning_rate\": trial.suggest_loguniform(\"learning_rate\", 0.01, 0.2),\n",
        "      \"num_leaves\": trial.suggest_int(\"num_leaves\", 15, 30),\n",
        "      \"min_child_samples\": trial.suggest_int(\"min_child_samples\", 5, 30),\n",
        "      \"feature_fraction\": trial.suggest_uniform(\"feature_fraction\", 0.5, 1.0),\n",
        "      \"bagging_fraction\": trial.suggest_uniform(\"bagging_fraction\", 0.5, 1.0),\n",
        "      \"bagging_freq\": trial.suggest_int(\"bagging_freq\", 1, 10),\n",
        "      \"reg_lambda\": trial.suggest_loguniform(\"reg_lambda\", 1e-3, 10.0),\n",
        "      \"scale_pos_weight\": scale_pos_weight\n",
        "  }\n",
        "\n",
        "  clf = lgb.LGBMClassifier(**param, n_estimators=200, random_state=42)\n",
        "  score = cross_val_score(clf, X_new, y, cv=skf, scoring='average_precision', n_jobs=-1).mean()\n",
        "  return score"
      ]
    },
    {
      "cell_type": "code",
      "execution_count": 32,
      "metadata": {
        "colab": {
          "base_uri": "https://localhost:8080/"
        },
        "id": "6eguqdVOm0c3",
        "outputId": "4aeecac5-64d5-4004-c5c2-655d9b8ca48c"
      },
      "outputs": [
        {
          "name": "stderr",
          "output_type": "stream",
          "text": [
            "[I 2025-10-03 10:26:14,449] A new study created in memory with name: no-name-c4a5e0b3-f590-4c3a-917d-d794f4ae30e1\n",
            "[I 2025-10-03 10:26:20,268] Trial 0 finished with value: 0.6433398310358578 and parameters: {'learning_rate': 0.06434958888641733, 'num_leaves': 27, 'min_child_samples': 30, 'feature_fraction': 0.5627596065115859, 'bagging_fraction': 0.8767183283087439, 'bagging_freq': 2, 'reg_lambda': 0.01889325378591746}. Best is trial 0 with value: 0.6433398310358578.\n",
            "[I 2025-10-03 10:26:24,762] Trial 1 finished with value: 0.656325524279092 and parameters: {'learning_rate': 0.02682699980240627, 'num_leaves': 21, 'min_child_samples': 28, 'feature_fraction': 0.9061087175903789, 'bagging_fraction': 0.5842524144508525, 'bagging_freq': 10, 'reg_lambda': 0.011793788279207781}. Best is trial 1 with value: 0.656325524279092.\n",
            "[I 2025-10-03 10:26:29,598] Trial 2 finished with value: 0.6114461594236025 and parameters: {'learning_rate': 0.18787670288717956, 'num_leaves': 27, 'min_child_samples': 6, 'feature_fraction': 0.5298552199915381, 'bagging_fraction': 0.9289909729168296, 'bagging_freq': 10, 'reg_lambda': 0.22222998322968132}. Best is trial 1 with value: 0.656325524279092.\n",
            "[I 2025-10-03 10:26:31,784] Trial 3 finished with value: 0.6567010830260548 and parameters: {'learning_rate': 0.025998349798150164, 'num_leaves': 17, 'min_child_samples': 12, 'feature_fraction': 0.8910936984130156, 'bagging_fraction': 0.6318185153770444, 'bagging_freq': 6, 'reg_lambda': 0.02562586145810891}. Best is trial 3 with value: 0.6567010830260548.\n",
            "[I 2025-10-03 10:26:33,781] Trial 4 finished with value: 0.6588244434054895 and parameters: {'learning_rate': 0.013786525402910059, 'num_leaves': 18, 'min_child_samples': 24, 'feature_fraction': 0.7193223584040083, 'bagging_fraction': 0.7667345517190916, 'bagging_freq': 2, 'reg_lambda': 0.8999394965102453}. Best is trial 4 with value: 0.6588244434054895.\n",
            "[I 2025-10-03 10:26:35,945] Trial 5 finished with value: 0.6290783101244907 and parameters: {'learning_rate': 0.08380502880751842, 'num_leaves': 30, 'min_child_samples': 21, 'feature_fraction': 0.5422058524059059, 'bagging_fraction': 0.5995660314596669, 'bagging_freq': 7, 'reg_lambda': 0.32120626905719474}. Best is trial 4 with value: 0.6588244434054895.\n",
            "[I 2025-10-03 10:26:37,556] Trial 6 finished with value: 0.6480816878124758 and parameters: {'learning_rate': 0.04630535695700681, 'num_leaves': 22, 'min_child_samples': 8, 'feature_fraction': 0.8441875018657471, 'bagging_fraction': 0.8534392219177409, 'bagging_freq': 3, 'reg_lambda': 0.0471444798820279}. Best is trial 4 with value: 0.6588244434054895.\n",
            "[I 2025-10-03 10:26:38,987] Trial 7 finished with value: 0.659024905911617 and parameters: {'learning_rate': 0.018884546573027454, 'num_leaves': 20, 'min_child_samples': 22, 'feature_fraction': 0.7706179811053694, 'bagging_fraction': 0.742307395403818, 'bagging_freq': 1, 'reg_lambda': 0.10350407843827837}. Best is trial 7 with value: 0.659024905911617.\n",
            "[I 2025-10-03 10:26:40,953] Trial 8 finished with value: 0.658997937545028 and parameters: {'learning_rate': 0.013524910137187422, 'num_leaves': 30, 'min_child_samples': 13, 'feature_fraction': 0.8052623710167802, 'bagging_fraction': 0.5460053403182493, 'bagging_freq': 5, 'reg_lambda': 0.01307318313221943}. Best is trial 7 with value: 0.659024905911617.\n",
            "[I 2025-10-03 10:26:42,097] Trial 9 finished with value: 0.658344366564141 and parameters: {'learning_rate': 0.01647564660839846, 'num_leaves': 15, 'min_child_samples': 24, 'feature_fraction': 0.7702380296914794, 'bagging_fraction': 0.6227221638617795, 'bagging_freq': 8, 'reg_lambda': 0.4535566550009403}. Best is trial 7 with value: 0.659024905911617.\n",
            "[I 2025-10-03 10:26:43,688] Trial 10 finished with value: 0.6597898535288669 and parameters: {'learning_rate': 0.026346229911242712, 'num_leaves': 20, 'min_child_samples': 17, 'feature_fraction': 0.9910371203986392, 'bagging_fraction': 0.7332546408140117, 'bagging_freq': 4, 'reg_lambda': 7.174952224864095}. Best is trial 10 with value: 0.6597898535288669.\n",
            "[I 2025-10-03 10:26:45,307] Trial 11 finished with value: 0.6583629554129805 and parameters: {'learning_rate': 0.02575889154753358, 'num_leaves': 20, 'min_child_samples': 17, 'feature_fraction': 0.9875438423211824, 'bagging_fraction': 0.7381598819669958, 'bagging_freq': 4, 'reg_lambda': 5.987970196303728}. Best is trial 10 with value: 0.6597898535288669.\n",
            "[I 2025-10-03 10:26:47,181] Trial 12 finished with value: 0.6542568523712374 and parameters: {'learning_rate': 0.035378199353450844, 'num_leaves': 24, 'min_child_samples': 18, 'feature_fraction': 0.6705124054752578, 'bagging_fraction': 0.754483536213012, 'bagging_freq': 1, 'reg_lambda': 0.0017494480061749122}. Best is trial 10 with value: 0.6597898535288669.\n",
            "[I 2025-10-03 10:26:49,555] Trial 13 finished with value: 0.6561214337629708 and parameters: {'learning_rate': 0.010383822396758394, 'num_leaves': 19, 'min_child_samples': 17, 'feature_fraction': 0.996507186760718, 'bagging_fraction': 0.690927553233678, 'bagging_freq': 1, 'reg_lambda': 7.4938095701941325}. Best is trial 10 with value: 0.6597898535288669.\n",
            "[I 2025-10-03 10:26:51,792] Trial 14 finished with value: 0.65946553291015 and parameters: {'learning_rate': 0.020214161449999702, 'num_leaves': 23, 'min_child_samples': 22, 'feature_fraction': 0.6515387952262959, 'bagging_fraction': 0.8196730883105963, 'bagging_freq': 4, 'reg_lambda': 1.9747262027568009}. Best is trial 10 with value: 0.6597898535288669.\n",
            "[I 2025-10-03 10:26:54,284] Trial 15 finished with value: 0.6525338518436974 and parameters: {'learning_rate': 0.044950158402929576, 'num_leaves': 24, 'min_child_samples': 13, 'feature_fraction': 0.6308497630134379, 'bagging_fraction': 0.9881826454411744, 'bagging_freq': 4, 'reg_lambda': 1.8997834162611624}. Best is trial 10 with value: 0.6597898535288669.\n",
            "[I 2025-10-03 10:26:56,498] Trial 16 finished with value: 0.6357657406426843 and parameters: {'learning_rate': 0.09250514609752074, 'num_leaves': 24, 'min_child_samples': 20, 'feature_fraction': 0.6553295198945375, 'bagging_fraction': 0.8164350100756549, 'bagging_freq': 5, 'reg_lambda': 2.5193858789085617}. Best is trial 10 with value: 0.6597898535288669.\n",
            "[I 2025-10-03 10:26:58,433] Trial 17 finished with value: 0.660691904325206 and parameters: {'learning_rate': 0.021535005353389317, 'num_leaves': 26, 'min_child_samples': 26, 'feature_fraction': 0.6983033362994844, 'bagging_fraction': 0.6664542935650621, 'bagging_freq': 3, 'reg_lambda': 2.346583151116185}. Best is trial 17 with value: 0.660691904325206.\n",
            "[I 2025-10-03 10:27:00,531] Trial 18 finished with value: 0.6552500356377191 and parameters: {'learning_rate': 0.033884018699421786, 'num_leaves': 27, 'min_child_samples': 27, 'feature_fraction': 0.9111323262316792, 'bagging_fraction': 0.6714939266689643, 'bagging_freq': 3, 'reg_lambda': 9.570292496187985}. Best is trial 17 with value: 0.660691904325206.\n",
            "[I 2025-10-03 10:27:02,619] Trial 19 finished with value: 0.6579313776382649 and parameters: {'learning_rate': 0.01047727649066718, 'num_leaves': 26, 'min_child_samples': 26, 'feature_fraction': 0.705742368928126, 'bagging_fraction': 0.5124376952093807, 'bagging_freq': 6, 'reg_lambda': 0.8710918542854363}. Best is trial 17 with value: 0.660691904325206.\n",
            "[I 2025-10-03 10:27:04,109] Trial 20 finished with value: 0.6496317460764651 and parameters: {'learning_rate': 0.059435098823265003, 'num_leaves': 16, 'min_child_samples': 11, 'feature_fraction': 0.608707683800629, 'bagging_fraction': 0.6970984887457473, 'bagging_freq': 8, 'reg_lambda': 0.0013155233285964635}. Best is trial 17 with value: 0.660691904325206.\n",
            "[I 2025-10-03 10:27:06,272] Trial 21 finished with value: 0.6602686807807181 and parameters: {'learning_rate': 0.020576539789424253, 'num_leaves': 23, 'min_child_samples': 24, 'feature_fraction': 0.5864424224933106, 'bagging_fraction': 0.7951518377335373, 'bagging_freq': 4, 'reg_lambda': 2.9424891881974617}. Best is trial 17 with value: 0.660691904325206.\n",
            "[I 2025-10-03 10:27:08,404] Trial 22 finished with value: 0.659726779076258 and parameters: {'learning_rate': 0.022476728631966588, 'num_leaves': 25, 'min_child_samples': 30, 'feature_fraction': 0.5895248755777748, 'bagging_fraction': 0.7962809348267204, 'bagging_freq': 3, 'reg_lambda': 3.7917373658752536}. Best is trial 17 with value: 0.660691904325206.\n",
            "[I 2025-10-03 10:27:10,175] Trial 23 finished with value: 0.656769060826094 and parameters: {'learning_rate': 0.03158088624709758, 'num_leaves': 22, 'min_child_samples': 25, 'feature_fraction': 0.823449132913268, 'bagging_fraction': 0.67602637309881, 'bagging_freq': 4, 'reg_lambda': 0.9938433860123456}. Best is trial 17 with value: 0.660691904325206.\n",
            "[I 2025-10-03 10:27:12,764] Trial 24 finished with value: 0.6567201498425986 and parameters: {'learning_rate': 0.016459860506888725, 'num_leaves': 29, 'min_child_samples': 15, 'feature_fraction': 0.5077097461131086, 'bagging_fraction': 0.7232416728508447, 'bagging_freq': 2, 'reg_lambda': 3.8617968008182566}. Best is trial 17 with value: 0.660691904325206.\n",
            "[I 2025-10-03 10:27:14,750] Trial 25 finished with value: 0.6552810674224253 and parameters: {'learning_rate': 0.01377655900864101, 'num_leaves': 21, 'min_child_samples': 19, 'feature_fraction': 0.7111961664711194, 'bagging_fraction': 0.8834939879834114, 'bagging_freq': 5, 'reg_lambda': 9.862230590502726}. Best is trial 17 with value: 0.660691904325206.\n",
            "[I 2025-10-03 10:27:17,066] Trial 26 finished with value: 0.655529653943379 and parameters: {'learning_rate': 0.037541727859635866, 'num_leaves': 25, 'min_child_samples': 23, 'feature_fraction': 0.5840343507963094, 'bagging_fraction': 0.7873069435575262, 'bagging_freq': 3, 'reg_lambda': 1.5824561648464364}. Best is trial 17 with value: 0.660691904325206.\n",
            "[I 2025-10-03 10:27:19,356] Trial 27 finished with value: 0.6572079647234437 and parameters: {'learning_rate': 0.02154917747264814, 'num_leaves': 28, 'min_child_samples': 28, 'feature_fraction': 0.6919242366607797, 'bagging_fraction': 0.6607632223370794, 'bagging_freq': 6, 'reg_lambda': 0.5162755904324156}. Best is trial 17 with value: 0.660691904325206.\n",
            "[I 2025-10-03 10:27:21,221] Trial 28 finished with value: 0.6557623010773478 and parameters: {'learning_rate': 0.029047044687893847, 'num_leaves': 23, 'min_child_samples': 15, 'feature_fraction': 0.9453734708913974, 'bagging_fraction': 0.7125874505544489, 'bagging_freq': 4, 'reg_lambda': 0.16812529678381907}. Best is trial 17 with value: 0.660691904325206.\n",
            "[I 2025-10-03 10:27:22,819] Trial 29 finished with value: 0.6505576388126703 and parameters: {'learning_rate': 0.06271311095122936, 'num_leaves': 19, 'min_child_samples': 29, 'feature_fraction': 0.7454273011072563, 'bagging_fraction': 0.8578223920867998, 'bagging_freq': 2, 'reg_lambda': 3.8238738733345863}. Best is trial 17 with value: 0.660691904325206.\n",
            "[I 2025-10-03 10:27:24,906] Trial 30 finished with value: 0.6588242664481692 and parameters: {'learning_rate': 0.0169648084820958, 'num_leaves': 26, 'min_child_samples': 26, 'feature_fraction': 0.6233687283730225, 'bagging_fraction': 0.9146184746871879, 'bagging_freq': 3, 'reg_lambda': 0.003521338532274208}. Best is trial 17 with value: 0.660691904325206.\n",
            "[I 2025-10-03 10:27:26,854] Trial 31 finished with value: 0.661600571951555 and parameters: {'learning_rate': 0.022912694485513987, 'num_leaves': 24, 'min_child_samples': 30, 'feature_fraction': 0.5749557122007624, 'bagging_fraction': 0.7866630605443999, 'bagging_freq': 3, 'reg_lambda': 3.9035995100621217}. Best is trial 31 with value: 0.661600571951555.\n",
            "[I 2025-10-03 10:27:28,975] Trial 32 finished with value: 0.659066897294232 and parameters: {'learning_rate': 0.0220617664571297, 'num_leaves': 25, 'min_child_samples': 30, 'feature_fraction': 0.5585488955239082, 'bagging_fraction': 0.7796482915703826, 'bagging_freq': 5, 'reg_lambda': 4.7083316573802305}. Best is trial 31 with value: 0.661600571951555.\n",
            "[I 2025-10-03 10:27:30,850] Trial 33 finished with value: 0.6595692873559562 and parameters: {'learning_rate': 0.026208728312398663, 'num_leaves': 21, 'min_child_samples': 28, 'feature_fraction': 0.5770575854373304, 'bagging_fraction': 0.8245862514452267, 'bagging_freq': 2, 'reg_lambda': 1.4408538196152485}. Best is trial 31 with value: 0.661600571951555.\n",
            "[I 2025-10-03 10:27:32,688] Trial 34 finished with value: 0.6552864350311236 and parameters: {'learning_rate': 0.040683120997018436, 'num_leaves': 23, 'min_child_samples': 27, 'feature_fraction': 0.527735165668287, 'bagging_fraction': 0.6443414121983871, 'bagging_freq': 3, 'reg_lambda': 2.9348656417416845}. Best is trial 31 with value: 0.661600571951555.\n",
            "[I 2025-10-03 10:27:34,806] Trial 35 finished with value: 0.612741077262376 and parameters: {'learning_rate': 0.15541514068910858, 'num_leaves': 26, 'min_child_samples': 25, 'feature_fraction': 0.5023899076365815, 'bagging_fraction': 0.7133632459411412, 'bagging_freq': 4, 'reg_lambda': 0.7844468463323517}. Best is trial 31 with value: 0.661600571951555.\n",
            "[I 2025-10-03 10:27:36,991] Trial 36 finished with value: 0.6576951906924234 and parameters: {'learning_rate': 0.01263919823059669, 'num_leaves': 28, 'min_child_samples': 20, 'feature_fraction': 0.8870447827449036, 'bagging_fraction': 0.5809153058784412, 'bagging_freq': 2, 'reg_lambda': 6.55391642542367}. Best is trial 31 with value: 0.661600571951555.\n",
            "[I 2025-10-03 10:27:38,786] Trial 37 finished with value: 0.6505611835349993 and parameters: {'learning_rate': 0.05245612776920887, 'num_leaves': 22, 'min_child_samples': 29, 'feature_fraction': 0.6782601910924798, 'bagging_fraction': 0.7732604688390501, 'bagging_freq': 7, 'reg_lambda': 0.22164609964935858}. Best is trial 31 with value: 0.661600571951555.\n",
            "[I 2025-10-03 10:27:40,193] Trial 38 finished with value: 0.6602546259419347 and parameters: {'learning_rate': 0.025312299287976018, 'num_leaves': 18, 'min_child_samples': 15, 'feature_fraction': 0.7436125043673418, 'bagging_fraction': 0.8425653365664241, 'bagging_freq': 3, 'reg_lambda': 0.043624789576145934}. Best is trial 31 with value: 0.661600571951555.\n",
            "[I 2025-10-03 10:27:41,676] Trial 39 finished with value: 0.6591773157240287 and parameters: {'learning_rate': 0.019343981769643064, 'num_leaves': 17, 'min_child_samples': 6, 'feature_fraction': 0.7374847776677872, 'bagging_fraction': 0.8971853312969947, 'bagging_freq': 3, 'reg_lambda': 0.04963036578976616}. Best is trial 31 with value: 0.661600571951555.\n"
          ]
        },
        {
          "name": "stdout",
          "output_type": "stream",
          "text": [
            "Best param: {'learning_rate': 0.022912694485513987, 'num_leaves': 24, 'min_child_samples': 30, 'feature_fraction': 0.5749557122007624, 'bagging_fraction': 0.7866630605443999, 'bagging_freq': 3, 'reg_lambda': 3.9035995100621217}\n"
          ]
        }
      ],
      "source": [
        "study = optuna.create_study(direction='maximize')\n",
        "study.optimize(objective, n_trials=40, n_jobs=1)\n",
        "best_parm_lgb = study.best_params\n",
        "print(\"Best param:\", best_parm_lgb)"
      ]
    },
    {
      "cell_type": "code",
      "execution_count": null,
      "metadata": {
        "id": "8J_yR4F8xnHC"
      },
      "outputs": [],
      "source": []
    },
    {
      "cell_type": "code",
      "execution_count": null,
      "metadata": {
        "id": "Mx0PUzgL0VZ3"
      },
      "outputs": [],
      "source": []
    },
    {
      "cell_type": "markdown",
      "metadata": {
        "id": "xhvYjxQJxn4Q"
      },
      "source": [
        "## Stabilize model with optuna best parameters"
      ]
    },
    {
      "cell_type": "code",
      "execution_count": 33,
      "metadata": {
        "colab": {
          "base_uri": "https://localhost:8080/"
        },
        "id": "iU3LYpVrxnDq",
        "outputId": "53284571-697e-4360-e18b-375968c400a5"
      },
      "outputs": [
        {
          "data": {
            "text/plain": [
              "{'learning_rate': 0.022912694485513987,\n",
              " 'num_leaves': 24,\n",
              " 'min_child_samples': 30,\n",
              " 'feature_fraction': 0.5749557122007624,\n",
              " 'bagging_fraction': 0.7866630605443999,\n",
              " 'bagging_freq': 3,\n",
              " 'reg_lambda': 3.9035995100621217,\n",
              " 'n_jobs': -1,\n",
              " 'random_state': 42,\n",
              " 'objective': 'binary',\n",
              " 'scale_pos_weight': np.float64(2.7683253076511503)}"
            ]
          },
          "execution_count": 33,
          "metadata": {},
          "output_type": "execute_result"
        }
      ],
      "source": [
        "best_parm_lgb['n_jobs'] = -1\n",
        "best_parm_lgb['random_state'] = 42\n",
        "best_parm_lgb['objective'] = 'binary'\n",
        "best_parm_lgb['scale_pos_weight'] = scale_pos_weight\n",
        "best_parm_lgb"
      ]
    },
    {
      "cell_type": "code",
      "execution_count": 34,
      "metadata": {
        "colab": {
          "base_uri": "https://localhost:8080/"
        },
        "id": "G9wpV_w6xuvI",
        "outputId": "263df8ee-a61f-406c-d73b-f43bf7fcd1fe"
      },
      "outputs": [
        {
          "name": "stdout",
          "output_type": "stream",
          "text": [
            "Fold 1\n",
            "[LightGBM] [Warning] feature_fraction is set=0.5749557122007624, colsample_bytree=1.0 will be ignored. Current value: feature_fraction=0.5749557122007624\n",
            "[LightGBM] [Warning] bagging_fraction is set=0.7866630605443999, subsample=1.0 will be ignored. Current value: bagging_fraction=0.7866630605443999\n",
            "[LightGBM] [Warning] bagging_freq is set=3, subsample_freq=0 will be ignored. Current value: bagging_freq=3\n",
            "[LightGBM] [Warning] feature_fraction is set=0.5749557122007624, colsample_bytree=1.0 will be ignored. Current value: feature_fraction=0.5749557122007624\n",
            "[LightGBM] [Warning] bagging_fraction is set=0.7866630605443999, subsample=1.0 will be ignored. Current value: bagging_fraction=0.7866630605443999\n",
            "[LightGBM] [Warning] bagging_freq is set=3, subsample_freq=0 will be ignored. Current value: bagging_freq=3\n",
            "[LightGBM] [Info] Number of positive: 1495, number of negative: 4139\n",
            "[LightGBM] [Info] Auto-choosing row-wise multi-threading, the overhead of testing was 0.000764 seconds.\n",
            "You can set `force_row_wise=true` to remove the overhead.\n",
            "And if memory is not enough, you can set `force_col_wise=true`.\n",
            "[LightGBM] [Info] Total Bins 1152\n",
            "[LightGBM] [Info] Number of data points in the train set: 5634, number of used features: 22\n",
            "[LightGBM] [Warning] feature_fraction is set=0.5749557122007624, colsample_bytree=1.0 will be ignored. Current value: feature_fraction=0.5749557122007624\n",
            "[LightGBM] [Warning] bagging_fraction is set=0.7866630605443999, subsample=1.0 will be ignored. Current value: bagging_fraction=0.7866630605443999\n",
            "[LightGBM] [Warning] bagging_freq is set=3, subsample_freq=0 will be ignored. Current value: bagging_freq=3\n",
            "[LightGBM] [Info] [binary:BoostFromScore]: pavg=0.265353 -> initscore=-1.018328\n",
            "[LightGBM] [Info] Start training from score -1.018328\n",
            "Training until validation scores don't improve for 100 rounds\n",
            "Early stopping, best iteration is:\n",
            "[73]\tvalid_0's auc: 0.84869\tvalid_0's binary_logloss: 0.462309\n",
            "Fold 1, AUC: 0.8748, AP: 0.6937\n",
            "Fold 2\n",
            "[LightGBM] [Warning] feature_fraction is set=0.5749557122007624, colsample_bytree=1.0 will be ignored. Current value: feature_fraction=0.5749557122007624\n",
            "[LightGBM] [Warning] bagging_fraction is set=0.7866630605443999, subsample=1.0 will be ignored. Current value: bagging_fraction=0.7866630605443999\n",
            "[LightGBM] [Warning] bagging_freq is set=3, subsample_freq=0 will be ignored. Current value: bagging_freq=3\n",
            "[LightGBM] [Warning] feature_fraction is set=0.5749557122007624, colsample_bytree=1.0 will be ignored. Current value: feature_fraction=0.5749557122007624\n",
            "[LightGBM] [Warning] bagging_fraction is set=0.7866630605443999, subsample=1.0 will be ignored. Current value: bagging_fraction=0.7866630605443999\n",
            "[LightGBM] [Warning] bagging_freq is set=3, subsample_freq=0 will be ignored. Current value: bagging_freq=3\n",
            "[LightGBM] [Info] Number of positive: 1495, number of negative: 4139\n",
            "[LightGBM] [Info] Auto-choosing row-wise multi-threading, the overhead of testing was 0.000632 seconds.\n",
            "You can set `force_row_wise=true` to remove the overhead.\n",
            "And if memory is not enough, you can set `force_col_wise=true`.\n",
            "[LightGBM] [Info] Total Bins 1152\n",
            "[LightGBM] [Info] Number of data points in the train set: 5634, number of used features: 22\n",
            "[LightGBM] [Warning] feature_fraction is set=0.5749557122007624, colsample_bytree=1.0 will be ignored. Current value: feature_fraction=0.5749557122007624\n",
            "[LightGBM] [Warning] bagging_fraction is set=0.7866630605443999, subsample=1.0 will be ignored. Current value: bagging_fraction=0.7866630605443999\n",
            "[LightGBM] [Warning] bagging_freq is set=3, subsample_freq=0 will be ignored. Current value: bagging_freq=3\n",
            "[LightGBM] [Info] [binary:BoostFromScore]: pavg=0.265353 -> initscore=-1.018328\n",
            "[LightGBM] [Info] Start training from score -1.018328\n",
            "Training until validation scores don't improve for 100 rounds\n",
            "Early stopping, best iteration is:\n",
            "[68]\tvalid_0's auc: 0.848292\tvalid_0's binary_logloss: 0.461717\n",
            "Fold 2, AUC: 0.8783, AP: 0.7028\n",
            "Fold 3\n",
            "[LightGBM] [Warning] feature_fraction is set=0.5749557122007624, colsample_bytree=1.0 will be ignored. Current value: feature_fraction=0.5749557122007624\n",
            "[LightGBM] [Warning] bagging_fraction is set=0.7866630605443999, subsample=1.0 will be ignored. Current value: bagging_fraction=0.7866630605443999\n",
            "[LightGBM] [Warning] bagging_freq is set=3, subsample_freq=0 will be ignored. Current value: bagging_freq=3\n",
            "[LightGBM] [Warning] feature_fraction is set=0.5749557122007624, colsample_bytree=1.0 will be ignored. Current value: feature_fraction=0.5749557122007624\n",
            "[LightGBM] [Warning] bagging_fraction is set=0.7866630605443999, subsample=1.0 will be ignored. Current value: bagging_fraction=0.7866630605443999\n",
            "[LightGBM] [Warning] bagging_freq is set=3, subsample_freq=0 will be ignored. Current value: bagging_freq=3\n",
            "[LightGBM] [Info] Number of positive: 1495, number of negative: 4139\n",
            "[LightGBM] [Info] Auto-choosing row-wise multi-threading, the overhead of testing was 0.000455 seconds.\n",
            "You can set `force_row_wise=true` to remove the overhead.\n",
            "And if memory is not enough, you can set `force_col_wise=true`.\n",
            "[LightGBM] [Info] Total Bins 1152\n",
            "[LightGBM] [Info] Number of data points in the train set: 5634, number of used features: 22\n",
            "[LightGBM] [Warning] feature_fraction is set=0.5749557122007624, colsample_bytree=1.0 will be ignored. Current value: feature_fraction=0.5749557122007624\n",
            "[LightGBM] [Warning] bagging_fraction is set=0.7866630605443999, subsample=1.0 will be ignored. Current value: bagging_fraction=0.7866630605443999\n",
            "[LightGBM] [Warning] bagging_freq is set=3, subsample_freq=0 will be ignored. Current value: bagging_freq=3\n",
            "[LightGBM] [Info] [binary:BoostFromScore]: pavg=0.265353 -> initscore=-1.018328\n",
            "[LightGBM] [Info] Start training from score -1.018328\n",
            "Training until validation scores don't improve for 100 rounds\n",
            "Early stopping, best iteration is:\n",
            "[50]\tvalid_0's auc: 0.831723\tvalid_0's binary_logloss: 0.478309\n",
            "Fold 3, AUC: 0.8677, AP: 0.6626\n",
            "Fold 4\n",
            "[LightGBM] [Warning] feature_fraction is set=0.5749557122007624, colsample_bytree=1.0 will be ignored. Current value: feature_fraction=0.5749557122007624\n",
            "[LightGBM] [Warning] bagging_fraction is set=0.7866630605443999, subsample=1.0 will be ignored. Current value: bagging_fraction=0.7866630605443999\n",
            "[LightGBM] [Warning] bagging_freq is set=3, subsample_freq=0 will be ignored. Current value: bagging_freq=3\n",
            "[LightGBM] [Warning] feature_fraction is set=0.5749557122007624, colsample_bytree=1.0 will be ignored. Current value: feature_fraction=0.5749557122007624\n",
            "[LightGBM] [Warning] bagging_fraction is set=0.7866630605443999, subsample=1.0 will be ignored. Current value: bagging_fraction=0.7866630605443999\n",
            "[LightGBM] [Warning] bagging_freq is set=3, subsample_freq=0 will be ignored. Current value: bagging_freq=3\n",
            "[LightGBM] [Info] Number of positive: 1496, number of negative: 4139\n",
            "[LightGBM] [Info] Auto-choosing row-wise multi-threading, the overhead of testing was 0.000327 seconds.\n",
            "You can set `force_row_wise=true` to remove the overhead.\n",
            "And if memory is not enough, you can set `force_col_wise=true`.\n",
            "[LightGBM] [Info] Total Bins 1152\n",
            "[LightGBM] [Info] Number of data points in the train set: 5635, number of used features: 22\n",
            "[LightGBM] [Warning] feature_fraction is set=0.5749557122007624, colsample_bytree=1.0 will be ignored. Current value: feature_fraction=0.5749557122007624\n",
            "[LightGBM] [Warning] bagging_fraction is set=0.7866630605443999, subsample=1.0 will be ignored. Current value: bagging_fraction=0.7866630605443999\n",
            "[LightGBM] [Warning] bagging_freq is set=3, subsample_freq=0 will be ignored. Current value: bagging_freq=3\n",
            "[LightGBM] [Info] [binary:BoostFromScore]: pavg=0.265484 -> initscore=-1.017659\n",
            "[LightGBM] [Info] Start training from score -1.017659\n",
            "Training until validation scores don't improve for 100 rounds\n",
            "Early stopping, best iteration is:\n",
            "[57]\tvalid_0's auc: 0.839273\tvalid_0's binary_logloss: 0.474208\n",
            "Fold 4, AUC: 0.8678, AP: 0.6836\n",
            "Fold 5\n",
            "[LightGBM] [Warning] feature_fraction is set=0.5749557122007624, colsample_bytree=1.0 will be ignored. Current value: feature_fraction=0.5749557122007624\n",
            "[LightGBM] [Warning] bagging_fraction is set=0.7866630605443999, subsample=1.0 will be ignored. Current value: bagging_fraction=0.7866630605443999\n",
            "[LightGBM] [Warning] bagging_freq is set=3, subsample_freq=0 will be ignored. Current value: bagging_freq=3\n",
            "[LightGBM] [Warning] feature_fraction is set=0.5749557122007624, colsample_bytree=1.0 will be ignored. Current value: feature_fraction=0.5749557122007624\n",
            "[LightGBM] [Warning] bagging_fraction is set=0.7866630605443999, subsample=1.0 will be ignored. Current value: bagging_fraction=0.7866630605443999\n",
            "[LightGBM] [Warning] bagging_freq is set=3, subsample_freq=0 will be ignored. Current value: bagging_freq=3\n",
            "[LightGBM] [Info] Number of positive: 1495, number of negative: 4140\n",
            "[LightGBM] [Info] Auto-choosing col-wise multi-threading, the overhead of testing was 0.001348 seconds.\n",
            "You can set `force_col_wise=true` to remove the overhead.\n",
            "[LightGBM] [Info] Total Bins 1152\n",
            "[LightGBM] [Info] Number of data points in the train set: 5635, number of used features: 22\n",
            "[LightGBM] [Warning] feature_fraction is set=0.5749557122007624, colsample_bytree=1.0 will be ignored. Current value: feature_fraction=0.5749557122007624\n",
            "[LightGBM] [Warning] bagging_fraction is set=0.7866630605443999, subsample=1.0 will be ignored. Current value: bagging_fraction=0.7866630605443999\n",
            "[LightGBM] [Warning] bagging_freq is set=3, subsample_freq=0 will be ignored. Current value: bagging_freq=3\n",
            "[LightGBM] [Info] [binary:BoostFromScore]: pavg=0.265306 -> initscore=-1.018570\n",
            "[LightGBM] [Info] Start training from score -1.018570\n",
            "Training until validation scores don't improve for 100 rounds\n",
            "Early stopping, best iteration is:\n",
            "[25]\tvalid_0's auc: 0.865117\tvalid_0's binary_logloss: 0.473515\n",
            "Fold 5, AUC: 0.8627, AP: 0.6935\n"
          ]
        }
      ],
      "source": [
        "oof_preds_opt = np.zeros(len(X_new))\n",
        "oof_per_folds_opt = []\n",
        "\n",
        "models_opt = []\n",
        "\n",
        "fold_metrics_opt = []\n",
        "best_iters = []\n",
        "\n",
        "\n",
        "for fold, (tr_idx, vl_idx) in enumerate(skf.split(X_new, y)):\n",
        "\n",
        "  print(f\"Fold {fold+1}\")\n",
        "\n",
        "  X_tr, X_val = X_new.iloc[tr_idx], X_new.iloc[vl_idx]\n",
        "  y_tr, y_val = y.iloc[tr_idx], y.iloc[vl_idx]\n",
        "\n",
        "  lgb_classif_opt = lgb.LGBMClassifier(**best_parm_lgb, n_estimators=10000)\n",
        "\n",
        "  lgb_classif_opt.fit(\n",
        "      X_tr, y_tr,\n",
        "      eval_set=[(X_val, y_val)],\n",
        "      eval_metric='auc',\n",
        "      categorical_feature=cat_cols_lgb,\n",
        "      callbacks=[early_stopping(stopping_rounds=100), log_evaluation(0)]\n",
        "  )\n",
        "\n",
        "  val_probs = lgb_classif.predict_proba(X_val, num_iteration=lgb_classif.best_iteration_)[:, 1]\n",
        "  oof_preds_opt[vl_idx] = val_probs\n",
        "  oof_per_folds_opt.append(val_probs)\n",
        "  models_opt.append(lgb_classif)\n",
        "  best_iters.append(lgb_classif.best_iteration_)\n",
        "\n",
        "  val_auc = roc_auc_score(y_val, val_probs)\n",
        "  val_ap = average_precision_score(y_val, val_probs)\n",
        "\n",
        "  print(f\"Fold {fold+1}, AUC: {val_auc:.4f}, AP: {val_ap:.4f}\")\n",
        "  fold_metrics_opt.append({\"fold\": fold + 1, \"auc\": val_auc, \"AP\": val_ap})\n"
      ]
    },
    {
      "cell_type": "code",
      "execution_count": null,
      "metadata": {
        "id": "CoFl7mkqxusH"
      },
      "outputs": [],
      "source": []
    },
    {
      "cell_type": "code",
      "execution_count": null,
      "metadata": {
        "id": "bO2HTIUH3gsA"
      },
      "outputs": [],
      "source": []
    },
    {
      "cell_type": "code",
      "execution_count": 35,
      "metadata": {
        "colab": {
          "base_uri": "https://localhost:8080/"
        },
        "id": "OcOF1_DuxuqB",
        "outputId": "ff2a0b3b-7861-4bac-b49f-2e875213c5e6"
      },
      "outputs": [
        {
          "name": "stdout",
          "output_type": "stream",
          "text": [
            "Best F1: 0.666974746316006 Best threshold: 0.45993205638501244\n"
          ]
        }
      ],
      "source": [
        "prec_opt, rec_opt, thrsh_opt = precision_recall_curve(y, oof_preds_opt)\n",
        "\n",
        "f1s_opt = 2 * prec_opt[:-1] * rec_opt[:-1] / (rec_opt[:-1] + prec_opt[:-1] + 1e-6)\n",
        "best_idx_opt = np.nanargmax(f1s_opt)\n",
        "best_thresh_opt = thrsh_opt[best_idx_opt]\n",
        "\n",
        "print(\"Best F1:\", f1s_opt[best_idx_opt], \"Best threshold:\", best_thresh_opt)"
      ]
    },
    {
      "cell_type": "code",
      "execution_count": 36,
      "metadata": {
        "colab": {
          "base_uri": "https://localhost:8080/"
        },
        "id": "m0ClA-QJ22_y",
        "outputId": "4bab960d-3891-414d-befa-27e49918fa04"
      },
      "outputs": [
        {
          "name": "stdout",
          "output_type": "stream",
          "text": [
            "\n",
            "\n",
            "Classification Report of Optuna:\n",
            "\n",
            "               precision    recall  f1-score   support\n",
            "\n",
            "           0       0.92      0.81      0.86       777\n",
            "           1       0.61      0.81      0.69       280\n",
            "\n",
            "    accuracy                           0.81      1057\n",
            "   macro avg       0.76      0.81      0.78      1057\n",
            "weighted avg       0.84      0.81      0.82      1057\n",
            "\n",
            "\n",
            "ROC-AUC: 0.8771993932708219 AP: 0.6845926256846501\n",
            "\n",
            " Confusion matrix:\n",
            " [[631 146]\n",
            " [ 54 226]]\n"
          ]
        }
      ],
      "source": [
        "preds_opt = np.mean([m.predict_proba(X_test_new)[:,1]  for m in models_opt], axis=0)\n",
        "y_preds_opt = (preds_opt >= best_thresh_opt).astype(int)\n",
        "\n",
        "print(\"\\n\\nClassification Report of Optuna:\\n\\n\", classification_report(y_test_new, y_preds_opt))\n",
        "print(\"\\nROC-AUC:\", roc_auc_score(y_test_new, preds_opt), \"AP:\", average_precision_score(y_test_new, preds_opt))\n",
        "print(\"\\n Confusion matrix:\\n\", confusion_matrix(y_test_new, y_preds_opt))"
      ]
    },
    {
      "cell_type": "code",
      "execution_count": null,
      "metadata": {
        "id": "IfedgkoHb6km"
      },
      "outputs": [],
      "source": []
    },
    {
      "cell_type": "markdown",
      "metadata": {
        "id": "Pw-iwheflYRm"
      },
      "source": [
        "## Final Estimation"
      ]
    },
    {
      "cell_type": "code",
      "execution_count": null,
      "metadata": {
        "id": "2O3iY2i_b6iq"
      },
      "outputs": [],
      "source": []
    },
    {
      "cell_type": "code",
      "execution_count": 70,
      "metadata": {
        "id": "9Yq7uFtB5DOY"
      },
      "outputs": [],
      "source": [
        "X_tr_all, y_tr_all = pd.concat([X_tr_new, X_val_new]), pd.concat([y_tr_new, y_val_new])\n",
        "cat_features = X_tr_all.select_dtypes(exclude='number').columns.tolist()"
      ]
    },
    {
      "cell_type": "code",
      "execution_count": 71,
      "metadata": {
        "colab": {
          "base_uri": "https://localhost:8080/",
          "height": 271
        },
        "id": "jVYVwFDg5DK9",
        "outputId": "77e9bf88-1eae-4c0f-8946-aa5c57a75f77"
      },
      "outputs": [
        {
          "name": "stdout",
          "output_type": "stream",
          "text": [
            "[LightGBM] [Info] Number of positive: 1589, number of negative: 4397\n",
            "[LightGBM] [Info] Auto-choosing row-wise multi-threading, the overhead of testing was 0.000359 seconds.\n",
            "You can set `force_row_wise=true` to remove the overhead.\n",
            "And if memory is not enough, you can set `force_col_wise=true`.\n",
            "[LightGBM] [Info] Total Bins 1152\n",
            "[LightGBM] [Info] Number of data points in the train set: 5986, number of used features: 22\n",
            "[LightGBM] [Info] [binary:BoostFromScore]: pavg=0.265453 -> initscore=-1.017818\n",
            "[LightGBM] [Info] Start training from score -1.017818\n"
          ]
        },
        {
          "data": {
            "text/html": [
              "<style>#sk-container-id-9 {\n",
              "  /* Definition of color scheme common for light and dark mode */\n",
              "  --sklearn-color-text: #000;\n",
              "  --sklearn-color-text-muted: #666;\n",
              "  --sklearn-color-line: gray;\n",
              "  /* Definition of color scheme for unfitted estimators */\n",
              "  --sklearn-color-unfitted-level-0: #fff5e6;\n",
              "  --sklearn-color-unfitted-level-1: #f6e4d2;\n",
              "  --sklearn-color-unfitted-level-2: #ffe0b3;\n",
              "  --sklearn-color-unfitted-level-3: chocolate;\n",
              "  /* Definition of color scheme for fitted estimators */\n",
              "  --sklearn-color-fitted-level-0: #f0f8ff;\n",
              "  --sklearn-color-fitted-level-1: #d4ebff;\n",
              "  --sklearn-color-fitted-level-2: #b3dbfd;\n",
              "  --sklearn-color-fitted-level-3: cornflowerblue;\n",
              "\n",
              "  /* Specific color for light theme */\n",
              "  --sklearn-color-text-on-default-background: var(--sg-text-color, var(--theme-code-foreground, var(--jp-content-font-color1, black)));\n",
              "  --sklearn-color-background: var(--sg-background-color, var(--theme-background, var(--jp-layout-color0, white)));\n",
              "  --sklearn-color-border-box: var(--sg-text-color, var(--theme-code-foreground, var(--jp-content-font-color1, black)));\n",
              "  --sklearn-color-icon: #696969;\n",
              "\n",
              "  @media (prefers-color-scheme: dark) {\n",
              "    /* Redefinition of color scheme for dark theme */\n",
              "    --sklearn-color-text-on-default-background: var(--sg-text-color, var(--theme-code-foreground, var(--jp-content-font-color1, white)));\n",
              "    --sklearn-color-background: var(--sg-background-color, var(--theme-background, var(--jp-layout-color0, #111)));\n",
              "    --sklearn-color-border-box: var(--sg-text-color, var(--theme-code-foreground, var(--jp-content-font-color1, white)));\n",
              "    --sklearn-color-icon: #878787;\n",
              "  }\n",
              "}\n",
              "\n",
              "#sk-container-id-9 {\n",
              "  color: var(--sklearn-color-text);\n",
              "}\n",
              "\n",
              "#sk-container-id-9 pre {\n",
              "  padding: 0;\n",
              "}\n",
              "\n",
              "#sk-container-id-9 input.sk-hidden--visually {\n",
              "  border: 0;\n",
              "  clip: rect(1px 1px 1px 1px);\n",
              "  clip: rect(1px, 1px, 1px, 1px);\n",
              "  height: 1px;\n",
              "  margin: -1px;\n",
              "  overflow: hidden;\n",
              "  padding: 0;\n",
              "  position: absolute;\n",
              "  width: 1px;\n",
              "}\n",
              "\n",
              "#sk-container-id-9 div.sk-dashed-wrapped {\n",
              "  border: 1px dashed var(--sklearn-color-line);\n",
              "  margin: 0 0.4em 0.5em 0.4em;\n",
              "  box-sizing: border-box;\n",
              "  padding-bottom: 0.4em;\n",
              "  background-color: var(--sklearn-color-background);\n",
              "}\n",
              "\n",
              "#sk-container-id-9 div.sk-container {\n",
              "  /* jupyter's `normalize.less` sets `[hidden] { display: none; }`\n",
              "     but bootstrap.min.css set `[hidden] { display: none !important; }`\n",
              "     so we also need the `!important` here to be able to override the\n",
              "     default hidden behavior on the sphinx rendered scikit-learn.org.\n",
              "     See: https://github.com/scikit-learn/scikit-learn/issues/21755 */\n",
              "  display: inline-block !important;\n",
              "  position: relative;\n",
              "}\n",
              "\n",
              "#sk-container-id-9 div.sk-text-repr-fallback {\n",
              "  display: none;\n",
              "}\n",
              "\n",
              "div.sk-parallel-item,\n",
              "div.sk-serial,\n",
              "div.sk-item {\n",
              "  /* draw centered vertical line to link estimators */\n",
              "  background-image: linear-gradient(var(--sklearn-color-text-on-default-background), var(--sklearn-color-text-on-default-background));\n",
              "  background-size: 2px 100%;\n",
              "  background-repeat: no-repeat;\n",
              "  background-position: center center;\n",
              "}\n",
              "\n",
              "/* Parallel-specific style estimator block */\n",
              "\n",
              "#sk-container-id-9 div.sk-parallel-item::after {\n",
              "  content: \"\";\n",
              "  width: 100%;\n",
              "  border-bottom: 2px solid var(--sklearn-color-text-on-default-background);\n",
              "  flex-grow: 1;\n",
              "}\n",
              "\n",
              "#sk-container-id-9 div.sk-parallel {\n",
              "  display: flex;\n",
              "  align-items: stretch;\n",
              "  justify-content: center;\n",
              "  background-color: var(--sklearn-color-background);\n",
              "  position: relative;\n",
              "}\n",
              "\n",
              "#sk-container-id-9 div.sk-parallel-item {\n",
              "  display: flex;\n",
              "  flex-direction: column;\n",
              "}\n",
              "\n",
              "#sk-container-id-9 div.sk-parallel-item:first-child::after {\n",
              "  align-self: flex-end;\n",
              "  width: 50%;\n",
              "}\n",
              "\n",
              "#sk-container-id-9 div.sk-parallel-item:last-child::after {\n",
              "  align-self: flex-start;\n",
              "  width: 50%;\n",
              "}\n",
              "\n",
              "#sk-container-id-9 div.sk-parallel-item:only-child::after {\n",
              "  width: 0;\n",
              "}\n",
              "\n",
              "/* Serial-specific style estimator block */\n",
              "\n",
              "#sk-container-id-9 div.sk-serial {\n",
              "  display: flex;\n",
              "  flex-direction: column;\n",
              "  align-items: center;\n",
              "  background-color: var(--sklearn-color-background);\n",
              "  padding-right: 1em;\n",
              "  padding-left: 1em;\n",
              "}\n",
              "\n",
              "\n",
              "/* Toggleable style: style used for estimator/Pipeline/ColumnTransformer box that is\n",
              "clickable and can be expanded/collapsed.\n",
              "- Pipeline and ColumnTransformer use this feature and define the default style\n",
              "- Estimators will overwrite some part of the style using the `sk-estimator` class\n",
              "*/\n",
              "\n",
              "/* Pipeline and ColumnTransformer style (default) */\n",
              "\n",
              "#sk-container-id-9 div.sk-toggleable {\n",
              "  /* Default theme specific background. It is overwritten whether we have a\n",
              "  specific estimator or a Pipeline/ColumnTransformer */\n",
              "  background-color: var(--sklearn-color-background);\n",
              "}\n",
              "\n",
              "/* Toggleable label */\n",
              "#sk-container-id-9 label.sk-toggleable__label {\n",
              "  cursor: pointer;\n",
              "  display: flex;\n",
              "  width: 100%;\n",
              "  margin-bottom: 0;\n",
              "  padding: 0.5em;\n",
              "  box-sizing: border-box;\n",
              "  text-align: center;\n",
              "  align-items: start;\n",
              "  justify-content: space-between;\n",
              "  gap: 0.5em;\n",
              "}\n",
              "\n",
              "#sk-container-id-9 label.sk-toggleable__label .caption {\n",
              "  font-size: 0.6rem;\n",
              "  font-weight: lighter;\n",
              "  color: var(--sklearn-color-text-muted);\n",
              "}\n",
              "\n",
              "#sk-container-id-9 label.sk-toggleable__label-arrow:before {\n",
              "  /* Arrow on the left of the label */\n",
              "  content: \"▸\";\n",
              "  float: left;\n",
              "  margin-right: 0.25em;\n",
              "  color: var(--sklearn-color-icon);\n",
              "}\n",
              "\n",
              "#sk-container-id-9 label.sk-toggleable__label-arrow:hover:before {\n",
              "  color: var(--sklearn-color-text);\n",
              "}\n",
              "\n",
              "/* Toggleable content - dropdown */\n",
              "\n",
              "#sk-container-id-9 div.sk-toggleable__content {\n",
              "  display: none;\n",
              "  text-align: left;\n",
              "  /* unfitted */\n",
              "  background-color: var(--sklearn-color-unfitted-level-0);\n",
              "}\n",
              "\n",
              "#sk-container-id-9 div.sk-toggleable__content.fitted {\n",
              "  /* fitted */\n",
              "  background-color: var(--sklearn-color-fitted-level-0);\n",
              "}\n",
              "\n",
              "#sk-container-id-9 div.sk-toggleable__content pre {\n",
              "  margin: 0.2em;\n",
              "  border-radius: 0.25em;\n",
              "  color: var(--sklearn-color-text);\n",
              "  /* unfitted */\n",
              "  background-color: var(--sklearn-color-unfitted-level-0);\n",
              "}\n",
              "\n",
              "#sk-container-id-9 div.sk-toggleable__content.fitted pre {\n",
              "  /* unfitted */\n",
              "  background-color: var(--sklearn-color-fitted-level-0);\n",
              "}\n",
              "\n",
              "#sk-container-id-9 input.sk-toggleable__control:checked~div.sk-toggleable__content {\n",
              "  /* Expand drop-down */\n",
              "  display: block;\n",
              "  width: 100%;\n",
              "  overflow: visible;\n",
              "}\n",
              "\n",
              "#sk-container-id-9 input.sk-toggleable__control:checked~label.sk-toggleable__label-arrow:before {\n",
              "  content: \"▾\";\n",
              "}\n",
              "\n",
              "/* Pipeline/ColumnTransformer-specific style */\n",
              "\n",
              "#sk-container-id-9 div.sk-label input.sk-toggleable__control:checked~label.sk-toggleable__label {\n",
              "  color: var(--sklearn-color-text);\n",
              "  background-color: var(--sklearn-color-unfitted-level-2);\n",
              "}\n",
              "\n",
              "#sk-container-id-9 div.sk-label.fitted input.sk-toggleable__control:checked~label.sk-toggleable__label {\n",
              "  background-color: var(--sklearn-color-fitted-level-2);\n",
              "}\n",
              "\n",
              "/* Estimator-specific style */\n",
              "\n",
              "/* Colorize estimator box */\n",
              "#sk-container-id-9 div.sk-estimator input.sk-toggleable__control:checked~label.sk-toggleable__label {\n",
              "  /* unfitted */\n",
              "  background-color: var(--sklearn-color-unfitted-level-2);\n",
              "}\n",
              "\n",
              "#sk-container-id-9 div.sk-estimator.fitted input.sk-toggleable__control:checked~label.sk-toggleable__label {\n",
              "  /* fitted */\n",
              "  background-color: var(--sklearn-color-fitted-level-2);\n",
              "}\n",
              "\n",
              "#sk-container-id-9 div.sk-label label.sk-toggleable__label,\n",
              "#sk-container-id-9 div.sk-label label {\n",
              "  /* The background is the default theme color */\n",
              "  color: var(--sklearn-color-text-on-default-background);\n",
              "}\n",
              "\n",
              "/* On hover, darken the color of the background */\n",
              "#sk-container-id-9 div.sk-label:hover label.sk-toggleable__label {\n",
              "  color: var(--sklearn-color-text);\n",
              "  background-color: var(--sklearn-color-unfitted-level-2);\n",
              "}\n",
              "\n",
              "/* Label box, darken color on hover, fitted */\n",
              "#sk-container-id-9 div.sk-label.fitted:hover label.sk-toggleable__label.fitted {\n",
              "  color: var(--sklearn-color-text);\n",
              "  background-color: var(--sklearn-color-fitted-level-2);\n",
              "}\n",
              "\n",
              "/* Estimator label */\n",
              "\n",
              "#sk-container-id-9 div.sk-label label {\n",
              "  font-family: monospace;\n",
              "  font-weight: bold;\n",
              "  display: inline-block;\n",
              "  line-height: 1.2em;\n",
              "}\n",
              "\n",
              "#sk-container-id-9 div.sk-label-container {\n",
              "  text-align: center;\n",
              "}\n",
              "\n",
              "/* Estimator-specific */\n",
              "#sk-container-id-9 div.sk-estimator {\n",
              "  font-family: monospace;\n",
              "  border: 1px dotted var(--sklearn-color-border-box);\n",
              "  border-radius: 0.25em;\n",
              "  box-sizing: border-box;\n",
              "  margin-bottom: 0.5em;\n",
              "  /* unfitted */\n",
              "  background-color: var(--sklearn-color-unfitted-level-0);\n",
              "}\n",
              "\n",
              "#sk-container-id-9 div.sk-estimator.fitted {\n",
              "  /* fitted */\n",
              "  background-color: var(--sklearn-color-fitted-level-0);\n",
              "}\n",
              "\n",
              "/* on hover */\n",
              "#sk-container-id-9 div.sk-estimator:hover {\n",
              "  /* unfitted */\n",
              "  background-color: var(--sklearn-color-unfitted-level-2);\n",
              "}\n",
              "\n",
              "#sk-container-id-9 div.sk-estimator.fitted:hover {\n",
              "  /* fitted */\n",
              "  background-color: var(--sklearn-color-fitted-level-2);\n",
              "}\n",
              "\n",
              "/* Specification for estimator info (e.g. \"i\" and \"?\") */\n",
              "\n",
              "/* Common style for \"i\" and \"?\" */\n",
              "\n",
              ".sk-estimator-doc-link,\n",
              "a:link.sk-estimator-doc-link,\n",
              "a:visited.sk-estimator-doc-link {\n",
              "  float: right;\n",
              "  font-size: smaller;\n",
              "  line-height: 1em;\n",
              "  font-family: monospace;\n",
              "  background-color: var(--sklearn-color-background);\n",
              "  border-radius: 1em;\n",
              "  height: 1em;\n",
              "  width: 1em;\n",
              "  text-decoration: none !important;\n",
              "  margin-left: 0.5em;\n",
              "  text-align: center;\n",
              "  /* unfitted */\n",
              "  border: var(--sklearn-color-unfitted-level-1) 1pt solid;\n",
              "  color: var(--sklearn-color-unfitted-level-1);\n",
              "}\n",
              "\n",
              ".sk-estimator-doc-link.fitted,\n",
              "a:link.sk-estimator-doc-link.fitted,\n",
              "a:visited.sk-estimator-doc-link.fitted {\n",
              "  /* fitted */\n",
              "  border: var(--sklearn-color-fitted-level-1) 1pt solid;\n",
              "  color: var(--sklearn-color-fitted-level-1);\n",
              "}\n",
              "\n",
              "/* On hover */\n",
              "div.sk-estimator:hover .sk-estimator-doc-link:hover,\n",
              ".sk-estimator-doc-link:hover,\n",
              "div.sk-label-container:hover .sk-estimator-doc-link:hover,\n",
              ".sk-estimator-doc-link:hover {\n",
              "  /* unfitted */\n",
              "  background-color: var(--sklearn-color-unfitted-level-3);\n",
              "  color: var(--sklearn-color-background);\n",
              "  text-decoration: none;\n",
              "}\n",
              "\n",
              "div.sk-estimator.fitted:hover .sk-estimator-doc-link.fitted:hover,\n",
              ".sk-estimator-doc-link.fitted:hover,\n",
              "div.sk-label-container:hover .sk-estimator-doc-link.fitted:hover,\n",
              ".sk-estimator-doc-link.fitted:hover {\n",
              "  /* fitted */\n",
              "  background-color: var(--sklearn-color-fitted-level-3);\n",
              "  color: var(--sklearn-color-background);\n",
              "  text-decoration: none;\n",
              "}\n",
              "\n",
              "/* Span, style for the box shown on hovering the info icon */\n",
              ".sk-estimator-doc-link span {\n",
              "  display: none;\n",
              "  z-index: 9999;\n",
              "  position: relative;\n",
              "  font-weight: normal;\n",
              "  right: .2ex;\n",
              "  padding: .5ex;\n",
              "  margin: .5ex;\n",
              "  width: min-content;\n",
              "  min-width: 20ex;\n",
              "  max-width: 50ex;\n",
              "  color: var(--sklearn-color-text);\n",
              "  box-shadow: 2pt 2pt 4pt #999;\n",
              "  /* unfitted */\n",
              "  background: var(--sklearn-color-unfitted-level-0);\n",
              "  border: .5pt solid var(--sklearn-color-unfitted-level-3);\n",
              "}\n",
              "\n",
              ".sk-estimator-doc-link.fitted span {\n",
              "  /* fitted */\n",
              "  background: var(--sklearn-color-fitted-level-0);\n",
              "  border: var(--sklearn-color-fitted-level-3);\n",
              "}\n",
              "\n",
              ".sk-estimator-doc-link:hover span {\n",
              "  display: block;\n",
              "}\n",
              "\n",
              "/* \"?\"-specific style due to the `<a>` HTML tag */\n",
              "\n",
              "#sk-container-id-9 a.estimator_doc_link {\n",
              "  float: right;\n",
              "  font-size: 1rem;\n",
              "  line-height: 1em;\n",
              "  font-family: monospace;\n",
              "  background-color: var(--sklearn-color-background);\n",
              "  border-radius: 1rem;\n",
              "  height: 1rem;\n",
              "  width: 1rem;\n",
              "  text-decoration: none;\n",
              "  /* unfitted */\n",
              "  color: var(--sklearn-color-unfitted-level-1);\n",
              "  border: var(--sklearn-color-unfitted-level-1) 1pt solid;\n",
              "}\n",
              "\n",
              "#sk-container-id-9 a.estimator_doc_link.fitted {\n",
              "  /* fitted */\n",
              "  border: var(--sklearn-color-fitted-level-1) 1pt solid;\n",
              "  color: var(--sklearn-color-fitted-level-1);\n",
              "}\n",
              "\n",
              "/* On hover */\n",
              "#sk-container-id-9 a.estimator_doc_link:hover {\n",
              "  /* unfitted */\n",
              "  background-color: var(--sklearn-color-unfitted-level-3);\n",
              "  color: var(--sklearn-color-background);\n",
              "  text-decoration: none;\n",
              "}\n",
              "\n",
              "#sk-container-id-9 a.estimator_doc_link.fitted:hover {\n",
              "  /* fitted */\n",
              "  background-color: var(--sklearn-color-fitted-level-3);\n",
              "}\n",
              "\n",
              ".estimator-table summary {\n",
              "    padding: .5rem;\n",
              "    font-family: monospace;\n",
              "    cursor: pointer;\n",
              "}\n",
              "\n",
              ".estimator-table details[open] {\n",
              "    padding-left: 0.1rem;\n",
              "    padding-right: 0.1rem;\n",
              "    padding-bottom: 0.3rem;\n",
              "}\n",
              "\n",
              ".estimator-table .parameters-table {\n",
              "    margin-left: auto !important;\n",
              "    margin-right: auto !important;\n",
              "}\n",
              "\n",
              ".estimator-table .parameters-table tr:nth-child(odd) {\n",
              "    background-color: #fff;\n",
              "}\n",
              "\n",
              ".estimator-table .parameters-table tr:nth-child(even) {\n",
              "    background-color: #f6f6f6;\n",
              "}\n",
              "\n",
              ".estimator-table .parameters-table tr:hover {\n",
              "    background-color: #e0e0e0;\n",
              "}\n",
              "\n",
              ".estimator-table table td {\n",
              "    border: 1px solid rgba(106, 105, 104, 0.232);\n",
              "}\n",
              "\n",
              ".user-set td {\n",
              "    color:rgb(255, 94, 0);\n",
              "    text-align: left;\n",
              "}\n",
              "\n",
              ".user-set td.value pre {\n",
              "    color:rgb(255, 94, 0) !important;\n",
              "    background-color: transparent !important;\n",
              "}\n",
              "\n",
              ".default td {\n",
              "    color: black;\n",
              "    text-align: left;\n",
              "}\n",
              "\n",
              ".user-set td i,\n",
              ".default td i {\n",
              "    color: black;\n",
              "}\n",
              "\n",
              ".copy-paste-icon {\n",
              "    background-image: url(data:image/svg+xml;base64,PHN2ZyB4bWxucz0iaHR0cDovL3d3dy53My5vcmcvMjAwMC9zdmciIHZpZXdCb3g9IjAgMCA0NDggNTEyIj48IS0tIUZvbnQgQXdlc29tZSBGcmVlIDYuNy4yIGJ5IEBmb250YXdlc29tZSAtIGh0dHBzOi8vZm9udGF3ZXNvbWUuY29tIExpY2Vuc2UgLSBodHRwczovL2ZvbnRhd2Vzb21lLmNvbS9saWNlbnNlL2ZyZWUgQ29weXJpZ2h0IDIwMjUgRm9udGljb25zLCBJbmMuLS0+PHBhdGggZD0iTTIwOCAwTDMzMi4xIDBjMTIuNyAwIDI0LjkgNS4xIDMzLjkgMTQuMWw2Ny45IDY3LjljOSA5IDE0LjEgMjEuMiAxNC4xIDMzLjlMNDQ4IDMzNmMwIDI2LjUtMjEuNSA0OC00OCA0OGwtMTkyIDBjLTI2LjUgMC00OC0yMS41LTQ4LTQ4bDAtMjg4YzAtMjYuNSAyMS41LTQ4IDQ4LTQ4ek00OCAxMjhsODAgMCAwIDY0LTY0IDAgMCAyNTYgMTkyIDAgMC0zMiA2NCAwIDAgNDhjMCAyNi41LTIxLjUgNDgtNDggNDhMNDggNTEyYy0yNi41IDAtNDgtMjEuNS00OC00OEwwIDE3NmMwLTI2LjUgMjEuNS00OCA0OC00OHoiLz48L3N2Zz4=);\n",
              "    background-repeat: no-repeat;\n",
              "    background-size: 14px 14px;\n",
              "    background-position: 0;\n",
              "    display: inline-block;\n",
              "    width: 14px;\n",
              "    height: 14px;\n",
              "    cursor: pointer;\n",
              "}\n",
              "</style><body><div id=\"sk-container-id-9\" class=\"sk-top-container\"><div class=\"sk-text-repr-fallback\"><pre>LGBMClassifier(colsample_bytree=0.8, learning_rate=0.05, metric=&#x27;auc&#x27;,\n",
              "               min_child_samples=30, n_estimators=47, objective=&#x27;binary&#x27;,\n",
              "               random_state=42, reg_lambda=1.0,\n",
              "               scale_pos_weight=np.float64(2.7683253076511503), subsample=0.8)</pre><b>In a Jupyter environment, please rerun this cell to show the HTML representation or trust the notebook. <br />On GitHub, the HTML representation is unable to render, please try loading this page with nbviewer.org.</b></div><div class=\"sk-container\" hidden><div class=\"sk-item\"><div class=\"sk-estimator fitted sk-toggleable\"><input class=\"sk-toggleable__control sk-hidden--visually\" id=\"sk-estimator-id-9\" type=\"checkbox\" checked><label for=\"sk-estimator-id-9\" class=\"sk-toggleable__label fitted sk-toggleable__label-arrow\"><div><div>LGBMClassifier</div></div><div><span class=\"sk-estimator-doc-link fitted\">i<span>Fitted</span></span></div></label><div class=\"sk-toggleable__content fitted\" data-param-prefix=\"\">\n",
              "        <div class=\"estimator-table\">\n",
              "            <details>\n",
              "                <summary>Parameters</summary>\n",
              "                <table class=\"parameters-table\">\n",
              "                  <tbody>\n",
              "                    \n",
              "        <tr class=\"default\">\n",
              "            <td><i class=\"copy-paste-icon\"\n",
              "                 onclick=\"copyToClipboard('boosting_type',\n",
              "                          this.parentElement.nextElementSibling)\"\n",
              "            ></i></td>\n",
              "            <td class=\"param\">boosting_type&nbsp;</td>\n",
              "            <td class=\"value\">&#x27;gbdt&#x27;</td>\n",
              "        </tr>\n",
              "    \n",
              "\n",
              "        <tr class=\"default\">\n",
              "            <td><i class=\"copy-paste-icon\"\n",
              "                 onclick=\"copyToClipboard('num_leaves',\n",
              "                          this.parentElement.nextElementSibling)\"\n",
              "            ></i></td>\n",
              "            <td class=\"param\">num_leaves&nbsp;</td>\n",
              "            <td class=\"value\">31</td>\n",
              "        </tr>\n",
              "    \n",
              "\n",
              "        <tr class=\"default\">\n",
              "            <td><i class=\"copy-paste-icon\"\n",
              "                 onclick=\"copyToClipboard('max_depth',\n",
              "                          this.parentElement.nextElementSibling)\"\n",
              "            ></i></td>\n",
              "            <td class=\"param\">max_depth&nbsp;</td>\n",
              "            <td class=\"value\">-1</td>\n",
              "        </tr>\n",
              "    \n",
              "\n",
              "        <tr class=\"user-set\">\n",
              "            <td><i class=\"copy-paste-icon\"\n",
              "                 onclick=\"copyToClipboard('learning_rate',\n",
              "                          this.parentElement.nextElementSibling)\"\n",
              "            ></i></td>\n",
              "            <td class=\"param\">learning_rate&nbsp;</td>\n",
              "            <td class=\"value\">0.05</td>\n",
              "        </tr>\n",
              "    \n",
              "\n",
              "        <tr class=\"user-set\">\n",
              "            <td><i class=\"copy-paste-icon\"\n",
              "                 onclick=\"copyToClipboard('n_estimators',\n",
              "                          this.parentElement.nextElementSibling)\"\n",
              "            ></i></td>\n",
              "            <td class=\"param\">n_estimators&nbsp;</td>\n",
              "            <td class=\"value\">47</td>\n",
              "        </tr>\n",
              "    \n",
              "\n",
              "        <tr class=\"default\">\n",
              "            <td><i class=\"copy-paste-icon\"\n",
              "                 onclick=\"copyToClipboard('subsample_for_bin',\n",
              "                          this.parentElement.nextElementSibling)\"\n",
              "            ></i></td>\n",
              "            <td class=\"param\">subsample_for_bin&nbsp;</td>\n",
              "            <td class=\"value\">200000</td>\n",
              "        </tr>\n",
              "    \n",
              "\n",
              "        <tr class=\"user-set\">\n",
              "            <td><i class=\"copy-paste-icon\"\n",
              "                 onclick=\"copyToClipboard('objective',\n",
              "                          this.parentElement.nextElementSibling)\"\n",
              "            ></i></td>\n",
              "            <td class=\"param\">objective&nbsp;</td>\n",
              "            <td class=\"value\">&#x27;binary&#x27;</td>\n",
              "        </tr>\n",
              "    \n",
              "\n",
              "        <tr class=\"default\">\n",
              "            <td><i class=\"copy-paste-icon\"\n",
              "                 onclick=\"copyToClipboard('class_weight',\n",
              "                          this.parentElement.nextElementSibling)\"\n",
              "            ></i></td>\n",
              "            <td class=\"param\">class_weight&nbsp;</td>\n",
              "            <td class=\"value\">None</td>\n",
              "        </tr>\n",
              "    \n",
              "\n",
              "        <tr class=\"default\">\n",
              "            <td><i class=\"copy-paste-icon\"\n",
              "                 onclick=\"copyToClipboard('min_split_gain',\n",
              "                          this.parentElement.nextElementSibling)\"\n",
              "            ></i></td>\n",
              "            <td class=\"param\">min_split_gain&nbsp;</td>\n",
              "            <td class=\"value\">0.0</td>\n",
              "        </tr>\n",
              "    \n",
              "\n",
              "        <tr class=\"default\">\n",
              "            <td><i class=\"copy-paste-icon\"\n",
              "                 onclick=\"copyToClipboard('min_child_weight',\n",
              "                          this.parentElement.nextElementSibling)\"\n",
              "            ></i></td>\n",
              "            <td class=\"param\">min_child_weight&nbsp;</td>\n",
              "            <td class=\"value\">0.001</td>\n",
              "        </tr>\n",
              "    \n",
              "\n",
              "        <tr class=\"user-set\">\n",
              "            <td><i class=\"copy-paste-icon\"\n",
              "                 onclick=\"copyToClipboard('min_child_samples',\n",
              "                          this.parentElement.nextElementSibling)\"\n",
              "            ></i></td>\n",
              "            <td class=\"param\">min_child_samples&nbsp;</td>\n",
              "            <td class=\"value\">30</td>\n",
              "        </tr>\n",
              "    \n",
              "\n",
              "        <tr class=\"user-set\">\n",
              "            <td><i class=\"copy-paste-icon\"\n",
              "                 onclick=\"copyToClipboard('subsample',\n",
              "                          this.parentElement.nextElementSibling)\"\n",
              "            ></i></td>\n",
              "            <td class=\"param\">subsample&nbsp;</td>\n",
              "            <td class=\"value\">0.8</td>\n",
              "        </tr>\n",
              "    \n",
              "\n",
              "        <tr class=\"default\">\n",
              "            <td><i class=\"copy-paste-icon\"\n",
              "                 onclick=\"copyToClipboard('subsample_freq',\n",
              "                          this.parentElement.nextElementSibling)\"\n",
              "            ></i></td>\n",
              "            <td class=\"param\">subsample_freq&nbsp;</td>\n",
              "            <td class=\"value\">0</td>\n",
              "        </tr>\n",
              "    \n",
              "\n",
              "        <tr class=\"user-set\">\n",
              "            <td><i class=\"copy-paste-icon\"\n",
              "                 onclick=\"copyToClipboard('colsample_bytree',\n",
              "                          this.parentElement.nextElementSibling)\"\n",
              "            ></i></td>\n",
              "            <td class=\"param\">colsample_bytree&nbsp;</td>\n",
              "            <td class=\"value\">0.8</td>\n",
              "        </tr>\n",
              "    \n",
              "\n",
              "        <tr class=\"default\">\n",
              "            <td><i class=\"copy-paste-icon\"\n",
              "                 onclick=\"copyToClipboard('reg_alpha',\n",
              "                          this.parentElement.nextElementSibling)\"\n",
              "            ></i></td>\n",
              "            <td class=\"param\">reg_alpha&nbsp;</td>\n",
              "            <td class=\"value\">0.0</td>\n",
              "        </tr>\n",
              "    \n",
              "\n",
              "        <tr class=\"user-set\">\n",
              "            <td><i class=\"copy-paste-icon\"\n",
              "                 onclick=\"copyToClipboard('reg_lambda',\n",
              "                          this.parentElement.nextElementSibling)\"\n",
              "            ></i></td>\n",
              "            <td class=\"param\">reg_lambda&nbsp;</td>\n",
              "            <td class=\"value\">1.0</td>\n",
              "        </tr>\n",
              "    \n",
              "\n",
              "        <tr class=\"user-set\">\n",
              "            <td><i class=\"copy-paste-icon\"\n",
              "                 onclick=\"copyToClipboard('random_state',\n",
              "                          this.parentElement.nextElementSibling)\"\n",
              "            ></i></td>\n",
              "            <td class=\"param\">random_state&nbsp;</td>\n",
              "            <td class=\"value\">42</td>\n",
              "        </tr>\n",
              "    \n",
              "\n",
              "        <tr class=\"default\">\n",
              "            <td><i class=\"copy-paste-icon\"\n",
              "                 onclick=\"copyToClipboard('n_jobs',\n",
              "                          this.parentElement.nextElementSibling)\"\n",
              "            ></i></td>\n",
              "            <td class=\"param\">n_jobs&nbsp;</td>\n",
              "            <td class=\"value\">None</td>\n",
              "        </tr>\n",
              "    \n",
              "\n",
              "        <tr class=\"default\">\n",
              "            <td><i class=\"copy-paste-icon\"\n",
              "                 onclick=\"copyToClipboard('importance_type',\n",
              "                          this.parentElement.nextElementSibling)\"\n",
              "            ></i></td>\n",
              "            <td class=\"param\">importance_type&nbsp;</td>\n",
              "            <td class=\"value\">&#x27;split&#x27;</td>\n",
              "        </tr>\n",
              "    \n",
              "\n",
              "        <tr class=\"user-set\">\n",
              "            <td><i class=\"copy-paste-icon\"\n",
              "                 onclick=\"copyToClipboard('metric',\n",
              "                          this.parentElement.nextElementSibling)\"\n",
              "            ></i></td>\n",
              "            <td class=\"param\">metric&nbsp;</td>\n",
              "            <td class=\"value\">&#x27;auc&#x27;</td>\n",
              "        </tr>\n",
              "    \n",
              "\n",
              "        <tr class=\"user-set\">\n",
              "            <td><i class=\"copy-paste-icon\"\n",
              "                 onclick=\"copyToClipboard('scale_pos_weight',\n",
              "                          this.parentElement.nextElementSibling)\"\n",
              "            ></i></td>\n",
              "            <td class=\"param\">scale_pos_weight&nbsp;</td>\n",
              "            <td class=\"value\">np.float64(2.7683253076511503)</td>\n",
              "        </tr>\n",
              "    \n",
              "                  </tbody>\n",
              "                </table>\n",
              "            </details>\n",
              "        </div>\n",
              "    </div></div></div></div></div><script>function copyToClipboard(text, element) {\n",
              "    // Get the parameter prefix from the closest toggleable content\n",
              "    const toggleableContent = element.closest('.sk-toggleable__content');\n",
              "    const paramPrefix = toggleableContent ? toggleableContent.dataset.paramPrefix : '';\n",
              "    const fullParamName = paramPrefix ? `${paramPrefix}${text}` : text;\n",
              "\n",
              "    const originalStyle = element.style;\n",
              "    const computedStyle = window.getComputedStyle(element);\n",
              "    const originalWidth = computedStyle.width;\n",
              "    const originalHTML = element.innerHTML.replace('Copied!', '');\n",
              "\n",
              "    navigator.clipboard.writeText(fullParamName)\n",
              "        .then(() => {\n",
              "            element.style.width = originalWidth;\n",
              "            element.style.color = 'green';\n",
              "            element.innerHTML = \"Copied!\";\n",
              "\n",
              "            setTimeout(() => {\n",
              "                element.innerHTML = originalHTML;\n",
              "                element.style = originalStyle;\n",
              "            }, 2000);\n",
              "        })\n",
              "        .catch(err => {\n",
              "            console.error('Failed to copy:', err);\n",
              "            element.style.color = 'red';\n",
              "            element.innerHTML = \"Failed!\";\n",
              "            setTimeout(() => {\n",
              "                element.innerHTML = originalHTML;\n",
              "                element.style = originalStyle;\n",
              "            }, 2000);\n",
              "        });\n",
              "    return false;\n",
              "}\n",
              "\n",
              "document.querySelectorAll('.fa-regular.fa-copy').forEach(function(element) {\n",
              "    const toggleableContent = element.closest('.sk-toggleable__content');\n",
              "    const paramPrefix = toggleableContent ? toggleableContent.dataset.paramPrefix : '';\n",
              "    const paramName = element.parentElement.nextElementSibling.textContent.trim();\n",
              "    const fullParamName = paramPrefix ? `${paramPrefix}${paramName}` : paramName;\n",
              "\n",
              "    element.setAttribute('title', fullParamName);\n",
              "});\n",
              "</script></body>"
            ],
            "text/plain": [
              "LGBMClassifier(colsample_bytree=0.8, learning_rate=0.05, metric='auc',\n",
              "               min_child_samples=30, n_estimators=47, objective='binary',\n",
              "               random_state=42, reg_lambda=1.0,\n",
              "               scale_pos_weight=np.float64(2.7683253076511503), subsample=0.8)"
            ]
          },
          "execution_count": 71,
          "metadata": {},
          "output_type": "execute_result"
        }
      ],
      "source": [
        "final_model = lgb.LGBMClassifier(**base_params, n_estimators=int(np.mean(best_iters_lgb)),\n",
        "                                 random_state=42)\n",
        "\n",
        "final_model.fit(X_tr_all, y_tr_all,\n",
        "                categorical_feature=cat_features,\n",
        "                eval_metric='auc')"
      ]
    },
    {
      "cell_type": "code",
      "execution_count": 72,
      "metadata": {
        "colab": {
          "base_uri": "https://localhost:8080/"
        },
        "id": "KnPUTAP8ctrO",
        "outputId": "707b6263-0c74-4d63-87be-ac4a64c9d152"
      },
      "outputs": [
        {
          "name": "stdout",
          "output_type": "stream",
          "text": [
            "Best threshold: 0.5334789291201277 Best F1: 0.6676602086433289\n"
          ]
        }
      ],
      "source": [
        "test_probs = final_model.predict_proba(X_test_new, num_iteration=final_model.best_iteration_)[:, 1]\n",
        "\n",
        "prec, rec, thresh = precision_recall_curve(y_test_new, test_probs)\n",
        "\n",
        "f1 = 2 * prec[:-1] * rec[:-1] / (prec[:-1] + rec[:-1] + 1e-12)\n",
        "best_idx = np.nanargmax(f1)\n",
        "best_threshold = thresh[best_idx]\n",
        "\n",
        "print(\"Best threshold:\", best_threshold, \"Best F1:\", f1[best_idx])"
      ]
    },
    {
      "cell_type": "code",
      "execution_count": 73,
      "metadata": {
        "colab": {
          "base_uri": "https://localhost:8080/"
        },
        "id": "8EaGtR7Ndjsc",
        "outputId": "9a97bad6-efed-4eaf-d2f6-6119176b2bc1"
      },
      "outputs": [
        {
          "name": "stdout",
          "output_type": "stream",
          "text": [
            "ROC-AUC score: 0.850229821658393\n",
            "Average Precision: 0.6427611702198349\n",
            "\n",
            "Classification report:\n",
            "\n",
            "               precision    recall  f1-score   support\n",
            "\n",
            "           0       0.92      0.79      0.85       777\n",
            "           1       0.57      0.80      0.67       280\n",
            "\n",
            "    accuracy                           0.79      1057\n",
            "   macro avg       0.74      0.79      0.76      1057\n",
            "weighted avg       0.83      0.79      0.80      1057\n",
            "\n",
            "\n",
            "Confusion Matrix:\n",
            " [[610 167]\n",
            " [ 56 224]]\n"
          ]
        }
      ],
      "source": [
        "test_preds  =(test_probs >= best_threshold).astype(int)\n",
        "\n",
        "print(\"ROC-AUC score:\", roc_auc_score(y_test_new, test_probs))\n",
        "print(\"Average Precision:\", average_precision_score(y_test_new, test_probs))\n",
        "print(\"\\nClassification report:\\n\\n\", classification_report(y_test_new, test_preds))\n",
        "print(\"\\nConfusion Matrix:\\n\", confusion_matrix(y_test_new, test_preds))"
      ]
    },
    {
      "cell_type": "markdown",
      "metadata": {},
      "source": [
        "From the Random Forest, the improvements was not as greater as  expected. So by moving into LightGBM with base parameters and fitted using cv folds, the model improved. The model catched most churners with a good recall and a good range of precisoon. As the objective was catching more churners. The fiting was done with the feature interaction and also without it. So when comparing th metrics, the without interaction peformed well. The hyperparameter tuning was tuning was done using `OPTUNA`. But the performance was less compared to the classifier without Optuna. From the calibration plot, the truen probabilities was actualy very well reflected. That actually contributes a lot for business goals. The SHAP shows the more important and less important features. \n",
        "\n",
        "The final estimator was chosen with best iteration mean taken from best iterations list that got from the cross validation folds fiting. When the final model was predicted to the unseen data it performed as well. Slight changes in down happened but that's accepted while seeing the unseen data. The ROC-AUC  droped in a very slight manner but Average precision dropped a few beacuse of imbalance of classes. \n",
        "\n",
        "\n",
        "Future implementation: Collecting more churn data helps the model to increase its performance. The true data actually gives the valid signal and avoids the cause of noise. "
      ]
    },
    {
      "cell_type": "code",
      "execution_count": null,
      "metadata": {
        "id": "mLnZwnX5ifge"
      },
      "outputs": [],
      "source": []
    },
    {
      "cell_type": "code",
      "execution_count": 107,
      "metadata": {},
      "outputs": [
        {
          "data": {
            "text/html": [
              "<div>\n",
              "<style scoped>\n",
              "    .dataframe tbody tr th:only-of-type {\n",
              "        vertical-align: middle;\n",
              "    }\n",
              "\n",
              "    .dataframe tbody tr th {\n",
              "        vertical-align: top;\n",
              "    }\n",
              "\n",
              "    .dataframe thead th {\n",
              "        text-align: right;\n",
              "    }\n",
              "</style>\n",
              "<table border=\"1\" class=\"dataframe\">\n",
              "  <thead>\n",
              "    <tr style=\"text-align: right;\">\n",
              "      <th></th>\n",
              "      <th>InternetService</th>\n",
              "      <th>Contract</th>\n",
              "      <th>PaymentMethod</th>\n",
              "      <th>tenure_bucket</th>\n",
              "      <th>contract_payment</th>\n",
              "      <th>security_bins</th>\n",
              "    </tr>\n",
              "  </thead>\n",
              "  <tbody>\n",
              "    <tr>\n",
              "      <th>0</th>\n",
              "      <td>No</td>\n",
              "      <td>One year</td>\n",
              "      <td>Mailed check</td>\n",
              "      <td>12+</td>\n",
              "      <td>One year_Mailed check</td>\n",
              "      <td>0</td>\n",
              "    </tr>\n",
              "    <tr>\n",
              "      <th>1</th>\n",
              "      <td>Fiber optic</td>\n",
              "      <td>Month-to-month</td>\n",
              "      <td>Electronic check</td>\n",
              "      <td>4-12</td>\n",
              "      <td>Month-to-month_Electronic check</td>\n",
              "      <td>0</td>\n",
              "    </tr>\n",
              "    <tr>\n",
              "      <th>2</th>\n",
              "      <td>Fiber optic</td>\n",
              "      <td>Two year</td>\n",
              "      <td>Electronic check</td>\n",
              "      <td>12+</td>\n",
              "      <td>Two year_Electronic check</td>\n",
              "      <td>3+</td>\n",
              "    </tr>\n",
              "    <tr>\n",
              "      <th>3</th>\n",
              "      <td>No</td>\n",
              "      <td>Two year</td>\n",
              "      <td>Mailed check</td>\n",
              "      <td>12+</td>\n",
              "      <td>Two year_Mailed check</td>\n",
              "      <td>0</td>\n",
              "    </tr>\n",
              "    <tr>\n",
              "      <th>4</th>\n",
              "      <td>Fiber optic</td>\n",
              "      <td>Month-to-month</td>\n",
              "      <td>Electronic check</td>\n",
              "      <td>12+</td>\n",
              "      <td>Month-to-month_Electronic check</td>\n",
              "      <td>1</td>\n",
              "    </tr>\n",
              "  </tbody>\n",
              "</table>\n",
              "</div>"
            ],
            "text/plain": [
              "  InternetService        Contract     PaymentMethod tenure_bucket  \\\n",
              "0              No        One year      Mailed check           12+   \n",
              "1     Fiber optic  Month-to-month  Electronic check          4-12   \n",
              "2     Fiber optic        Two year  Electronic check           12+   \n",
              "3              No        Two year      Mailed check           12+   \n",
              "4     Fiber optic  Month-to-month  Electronic check           12+   \n",
              "\n",
              "                  contract_payment security_bins  \n",
              "0            One year_Mailed check             0  \n",
              "1  Month-to-month_Electronic check             0  \n",
              "2        Two year_Electronic check            3+  \n",
              "3            Two year_Mailed check             0  \n",
              "4  Month-to-month_Electronic check             1  "
            ]
          },
          "execution_count": 107,
          "metadata": {},
          "output_type": "execute_result"
        }
      ],
      "source": [
        "pd.set_option(\"display.max_columns\", None)\n",
        "X_new[cat_cols_lgb].head()"
      ]
    },
    {
      "cell_type": "code",
      "execution_count": null,
      "metadata": {},
      "outputs": [],
      "source": []
    }
  ],
  "metadata": {
    "colab": {
      "provenance": []
    },
    "kernelspec": {
      "display_name": ".venv",
      "language": "python",
      "name": "python3"
    },
    "language_info": {
      "codemirror_mode": {
        "name": "ipython",
        "version": 3
      },
      "file_extension": ".py",
      "mimetype": "text/x-python",
      "name": "python",
      "nbconvert_exporter": "python",
      "pygments_lexer": "ipython3",
      "version": "3.13.2"
    }
  },
  "nbformat": 4,
  "nbformat_minor": 0
}
